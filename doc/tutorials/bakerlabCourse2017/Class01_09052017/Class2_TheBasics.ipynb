{
 "cells": [
  {
   "cell_type": "markdown",
   "metadata": {},
   "source": [
    "# Basic Rosetta functionality\n",
    "\n",
    "First things first. Let's initialize PyRosetta and set the constants. In a real-world script, the `input_file` variable should be set through the `argparse` module."
   ]
  },
  {
   "cell_type": "code",
   "execution_count": 3,
   "metadata": {},
   "outputs": [
    {
     "name": "stdout",
     "output_type": "stream",
     "text": [
      "Found rosetta database at: /work/dadriano/.virtualenvs/may2017_pyrosetta_newDigs/lib/python2.7/site-packages/pyrosetta-4.0-py2.7.egg/database; using it....\n",
      "PyRosetta-4 2016 [Rosetta 2016 unknown:fdd9e71c3a71b1bbd5e9e6f21327432d10df240c 2017-03-27 11:09:48 -0400] retrieved from: git@github.com:RosettaCommons/main.git\n",
      "(C) Copyright Rosetta Commons Member Institutions.\n",
      "Created in JHU by Sergey Lyskov and PyRosetta Team.\n",
      "\n"
     ]
    }
   ],
   "source": [
    "from __future__ import print_function\n",
    "\n",
    "from pyrosetta import *\n",
    "from rosetta import *\n",
    "init(extra_options='-beta_nov15')\n",
    "input_file = '/work/dadriano/PyRosetta_Teaching/src_pdbs/LPC_dryRun_3lB6A_Mf14aa_order00029_ndx6_c189_2cig12p_0001_-41.8_re1_6_EEHEE_0883_0001_0002.pdb.gz'\n",
    "#input_file = 'LPC_dryRun_3lB6A_Mf14aa_order00029_ndx6_c189_2cig12p_0001_-41.8_re1_6_EEHEE_0883_0001_0002.pdb.gz'"
   ]
  },
  {
   "cell_type": "markdown",
   "metadata": {},
   "source": [
    "## Scoring a pose"
   ]
  },
  {
   "cell_type": "code",
   "execution_count": 4,
   "metadata": {},
   "outputs": [
    {
     "name": "stdout",
     "output_type": "stream",
     "text": [
      "beta_nov15.wts\n"
     ]
    },
    {
     "data": {
      "text/plain": [
       "-423.08568743208014"
      ]
     },
     "execution_count": 4,
     "metadata": {},
     "output_type": "execute_result"
    }
   ],
   "source": [
    "p = pose_from_file(input_file)\n",
    "sf = get_score_function()\n",
    "print(sf.get_name())\n",
    "\n",
    "%psearch sf.*weight*\n",
    "sf.get_weight?\n",
    "\n",
    "sf.get_weight(core.scoring.hbond_bb_sc)\n",
    "sf.set_weight(core.scoring.hbond_bb_sc, 1.2)\n",
    "sf.get_weight(core.scoring.hbond_bb_sc)\n",
    "sf(p)\n"
   ]
  },
  {
   "cell_type": "markdown",
   "metadata": {},
   "source": [
    "## Evaluating energies between specific atoms"
   ]
  },
  {
   "cell_type": "code",
   "execution_count": 5,
   "metadata": {},
   "outputs": [
    {
     "data": {
      "text/plain": [
       "(0.0, 0.0, 0.0)"
      ]
     },
     "execution_count": 5,
     "metadata": {},
     "output_type": "execute_result"
    }
   ],
   "source": [
    "sf.show(p)\n",
    "\n",
    "resNo = 4 # let's say I care about residue 4\n",
    "p.energies().show(resNo)\n",
    "\n",
    "r1 = p.residue(128)\n",
    "r2 = p.residue(133)\n",
    "a1 = r1.atom('N')\n",
    "a2 = r2.atom('O')\n",
    "etable_atom_pair_energies(a1, a2, sf)\n"
   ]
  },
  {
   "cell_type": "markdown",
   "metadata": {},
   "source": [
    "## Looking up hydrogen bonds"
   ]
  },
  {
   "cell_type": "code",
   "execution_count": 28,
   "metadata": {
    "collapsed": true
   },
   "outputs": [],
   "source": [
    "hbond_set = core.scoring.hbonds.HBondSet()\n",
    "p.update_residue_neighbors() # not actually necessary in this case bacause we just scored\n",
    "core.scoring.hbonds.fill_hbond_set(p, False, hbond_set)\n",
    "\n",
    "hbond_set.show(p) # show all of the hydrogen bonds in the pose\n",
    "hbond_set.show(p, 128) # show the hydrogen bonds involving residue 128"
   ]
  },
  {
   "cell_type": "markdown",
   "metadata": {},
   "source": [
    "## Accessing and manipulating FoldTrees"
   ]
  },
  {
   "cell_type": "code",
   "execution_count": 30,
   "metadata": {},
   "outputs": [
    {
     "name": "stdout",
     "output_type": "stream",
     "text": [
      "FOLD_TREE  EDGE 1 109 -1  EDGE 1 110 1  EDGE 110 150 -1 \n"
     ]
    },
    {
     "data": {
      "text/plain": [
       "1"
      ]
     },
     "execution_count": 30,
     "metadata": {},
     "output_type": "execute_result"
    }
   ],
   "source": [
    "print(p.fold_tree())\n",
    "p.num_jump()"
   ]
  },
  {
   "cell_type": "markdown",
   "metadata": {},
   "source": [
    "## MoveMap"
   ]
  },
  {
   "cell_type": "code",
   "execution_count": 31,
   "metadata": {
    "collapsed": true
   },
   "outputs": [],
   "source": [
    "movemap = MoveMap()\n",
    "movemap.set_bb(True)\n",
    "movemap.set_bb(50, False)\n"
   ]
  },
  {
   "cell_type": "markdown",
   "metadata": {},
   "source": [
    "## MonteCarlo"
   ]
  },
  {
   "cell_type": "code",
   "execution_count": 32,
   "metadata": {
    "collapsed": true
   },
   "outputs": [],
   "source": [
    "kT = 1.\n",
    "mc = MonteCarlo(p, sf, kT)\n",
    "mc.boltzmann(p) # call this after modifying a pose\n",
    "\n",
    "mc.show_scores()\n",
    "mc.show_counters()\n",
    "mc.show_state()"
   ]
  },
  {
   "cell_type": "markdown",
   "metadata": {},
   "source": [
    "## Putting it together"
   ]
  },
  {
   "cell_type": "code",
   "execution_count": 36,
   "metadata": {
    "collapsed": true
   },
   "outputs": [],
   "source": [
    "n_moves = 1\n",
    "small_mover = protocols.simple_moves.SmallMover(movemap, kT, n_moves)\n",
    "small_mover.angle_max('H', 25)\n",
    "small_mover.angle_max('E', 25)\n",
    "small_mover.angle_max('L', 25)\n",
    "\n",
    "trial_mover = TrialMover(small_mover, mc)\n",
    "\n",
    "# let's apply this trial mover 100x and see what happens\n",
    "repeat = 100\n",
    "for _ in range(repeat):\n",
    "    trial_mover.apply(p)\n",
    "\n",
    "mc.show_scores()\n",
    "mc.show_counters()\n",
    "mc.show_state()\n",
    "\n",
    "mc.recover_low(p)\n"
   ]
  },
  {
   "cell_type": "markdown",
   "metadata": {},
   "source": [
    "## More flow control movers\n",
    "What is the difference between `one_trial_mover` and `another_trial_mover` and how do they compare to `trial_mover` being called in a for-loop?"
   ]
  },
  {
   "cell_type": "code",
   "execution_count": 37,
   "metadata": {
    "collapsed": true
   },
   "outputs": [],
   "source": [
    "repeat_mover = RepeatMover(small_mover, repeat)\n",
    "\n",
    "one_trial_mover = TrialMover(repeat_mover, mc)\n",
    "\n",
    "another_repeat_mover = RepeatMover(trial_mover, repeat)\n",
    "another_trial_mover = TrialMover(repeat_mover, mc)\n",
    "\n"
   ]
  }
 ],
 "metadata": {
  "kernelspec": {
   "display_name": "Python 2",
   "language": "python",
   "name": "python2"
  },
  "language_info": {
   "codemirror_mode": {
    "name": "ipython",
    "version": 2
   },
   "file_extension": ".py",
   "mimetype": "text/x-python",
   "name": "python",
   "nbconvert_exporter": "python",
   "pygments_lexer": "ipython2",
   "version": "2.7.3"
  }
 },
 "nbformat": 4,
 "nbformat_minor": 2
}
