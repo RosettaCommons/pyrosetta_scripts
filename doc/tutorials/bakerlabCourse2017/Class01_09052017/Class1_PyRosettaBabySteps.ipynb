{
 "cells": [
  {
   "cell_type": "code",
   "execution_count": 1,
   "metadata": {
    "collapsed": true
   },
   "outputs": [],
   "source": [
    "%matplotlib inline\n",
    "#That command is called magic and allows to do inline plotting here\n",
    "#Check other ipython magics at: https://ipython.org/ipython-doc/3/interactive/magics.html\n",
    "\n"
   ]
  },
  {
   "cell_type": "code",
   "execution_count": 2,
   "metadata": {
    "collapsed": true
   },
   "outputs": [],
   "source": [
    "#INFO: This is called licence/info\n",
    "#Author:Daniel-Adriano Silva (dadriano@gmail.com)\n",
    "#BakerLab, IPD, Seattle,WA, May/09/2017\n",
    "#if True: feelFreeToAddStatetmentsAndClaimProperty\n",
    "#if True: doCopyAndRedistribute\n",
    "#if True: pleaseForgiveTheTypos\n"
   ]
  },
  {
   "cell_type": "code",
   "execution_count": 3,
   "metadata": {
    "collapsed": true
   },
   "outputs": [],
   "source": [
    "#Import libraries\n",
    "import pyrosetta as pyrosetta  #This is rosetta\n",
    "import numpy as numpy #This is numpy\n",
    "from matplotlib import pylab as plt #This is to make plots\n",
    "import time as time #NOT IMPORTANT# This is to report time\n",
    "\n",
    "#TIP: Use Shift+Intro to execute a given cell\n"
   ]
  },
  {
   "cell_type": "code",
   "execution_count": 4,
   "metadata": {},
   "outputs": [
    {
     "name": "stdout",
     "output_type": "stream",
     "text": [
      "The current time is: time.struct_time(tm_year=2017, tm_mon=5, tm_mday=9, tm_hour=19, tm_min=42, tm_sec=59, tm_wday=1, tm_yday=129, tm_isdst=1)\n"
     ]
    }
   ],
   "source": [
    "#DO NOT PAY ATTENTION TO THIS: Save current time\n",
    "print \"The current time is:\",time.localtime()\n",
    "init_class_time=time.time()\n"
   ]
  },
  {
   "cell_type": "code",
   "execution_count": 5,
   "metadata": {},
   "outputs": [
    {
     "name": "stdout",
     "output_type": "stream",
     "text": [
      "Init Rosetta and Reading Rosetta Database, be patient\n",
      "Found rosetta database at: /work/dadriano/.virtualenvs/may2017_pyrosetta_newDigs/lib/python2.7/site-packages/pyrosetta-4.0-py2.7.egg/database; using it....\n",
      "PyRosetta-4 2016 [Rosetta 2016 unknown:fdd9e71c3a71b1bbd5e9e6f21327432d10df240c 2017-03-27 11:09:48 -0400] retrieved from: git@github.com:RosettaCommons/main.git\n",
      "(C) Copyright Rosetta Commons Member Institutions.\n",
      "Created in JHU by Sergey Lyskov and PyRosetta Team.\n",
      "\n",
      "Done\n"
     ]
    }
   ],
   "source": [
    "#Initialize Rosetta\n",
    "print \"Init Rosetta and Reading Rosetta Database, be patient\"\n",
    "pyrosetta.init(options=\"-beta_nov15 -corrections::beta_nov15 -ex1 -ex2aro -constant_seed -detect_disulf FALSE -mute all \", #-ex2\n",
    "             extra_options=\"\")\n",
    "print \"Done\"\n"
   ]
  },
  {
   "cell_type": "code",
   "execution_count": null,
   "metadata": {
    "collapsed": true
   },
   "outputs": [],
   "source": []
  },
  {
   "cell_type": "code",
   "execution_count": 7,
   "metadata": {
    "collapsed": true
   },
   "outputs": [],
   "source": [
    "#Search for a given function with name\n",
    "%psearch pyrosetta.*pose*\n"
   ]
  },
  {
   "cell_type": "code",
   "execution_count": 8,
   "metadata": {
    "collapsed": true
   },
   "outputs": [],
   "source": [
    "#Display the declaration of a given function\n",
    "pyrosetta.pose_from_pdb?\n"
   ]
  },
  {
   "cell_type": "code",
   "execution_count": 9,
   "metadata": {
    "scrolled": true
   },
   "outputs": [
    {
     "name": "stdout",
     "output_type": "stream",
     "text": [
      "PDB file name: /work/dadriano/PyRosetta_Teaching/src_pdbs/LPC_dryRun_3lB6A_Mf14aa_order00029_ndx6_c189_2cig12p_0001_-41.8_re1_6_EEHEE_0883_0001_0002.pdb\n",
      "Total residues:150\n",
      "Sequence: PPSTALRELIEELVNITQNQKAPLCNGSMVWSINLTAGMYCAALESLINVSGCSAIEKTQRMLSGFCPHKVSAGQFSSLHVRDTKIEVAQFVKDLLLHLKKLFREGRFNPTAKLQDDEAEWYSRDAANAAAALAAQTRVETRNDEIRSDS\n",
      "Fold tree:\n",
      "FOLD_TREE  EDGE 1 109 -1  EDGE 1 110 1  EDGE 110 150 -1 \n"
     ]
    }
   ],
   "source": [
    "#Load a PDB\n",
    "in_pdb_path=\"/work/dadriano/PyRosetta_Teaching/src_pdbs/LPC_dryRun_3lB6A_Mf14aa_order00029_ndx6_c189_2cig12p_0001_-41.8_re1_6_EEHEE_0883_0001_0002.pdb\"\n",
    "poseA=pyrosetta.pose_from_pdb(in_pdb_path)\n",
    "print poseA\n"
   ]
  },
  {
   "cell_type": "code",
   "execution_count": 10,
   "metadata": {},
   "outputs": [
    {
     "name": "stdout",
     "output_type": "stream",
     "text": [
      "PDB file name: /work/dadriano/PyRosetta_Teaching/src_pdbs/LPC_dryRun_3lB6A_Mf14aa_order00029_ndx6_c189_2cig12p_0001_-41.8_re1_6_EEHEE_0883_0001_0002.pdb.gz\n",
      "Total residues:150\n",
      "Sequence: PPSTALRELIEELVNITQNQKAPLCNGSMVWSINLTAGMYCAALESLINVSGCSAIEKTQRMLSGFCPHKVSAGQFSSLHVRDTKIEVAQFVKDLLLHLKKLFREGRFNPTAKLQDDEAEWYSRDAANAAAALAAQTRVETRNDEIRSDS\n",
      "Fold tree:\n",
      "FOLD_TREE  EDGE 1 109 -1  EDGE 1 110 1  EDGE 110 150 -1 \n"
     ]
    }
   ],
   "source": [
    "#Or load a PDB from a gz\n",
    "in_pdb_path=\"/work/dadriano/PyRosetta_Teaching/src_pdbs/LPC_dryRun_3lB6A_Mf14aa_order00029_ndx6_c189_2cig12p_0001_-41.8_re1_6_EEHEE_0883_0001_0002.pdb.gz\"\n",
    "poseA=pyrosetta.pose_from_pdb(in_pdb_path)\n",
    "print poseA\n"
   ]
  },
  {
   "cell_type": "code",
   "execution_count": 11,
   "metadata": {},
   "outputs": [
    {
     "name": "stdout",
     "output_type": "stream",
     "text": [
      "LPC_dryRun_3lB6A_Mf14aa_order00029_ndx6_c189_2cig12p_0001_-41.8_re1_6_EEHEE_0883_0001_0002_0001\n",
      "Pose Info: PDB file name: \n",
      "Total residues:150\n",
      "Sequence: PPSTALRELIEELVNITQNQKAPLCNGSMVWSINLTAGMYCAALESLINVSGCSAIEKTQRMLSGFCPHKVSAGQFSSLHVRDTKIEVAQFVKDLLLHLKKLFREGRFNPTAKLQDDEAEWYSRDAANAAAALAAQTRVETRNDEIRSDS\n",
      "Fold tree:\n",
      "FOLD_TREE  EDGE 1 109 -1  EDGE 1 110 1  EDGE 110 150 -1 \n"
     ]
    }
   ],
   "source": [
    "sfd=pyrosetta.rosetta.core.io.silent.SilentFileData(pyrosetta.rosetta.core.io.silent.SilentFileOptions())\n",
    "sfd.read_file(\"/work/dadriano/PyRosetta_Teaching/src_pdbs/LPC_dryRun_3lB6A_Mf14aa_order00029_ndx6_c189_2cig12p_0001_-41.8_re1_6_EEHEE_0883_0001_0002.silent\")\n",
    "sf_tags=sfd.tags()\n",
    "poseA=pyrosetta.Pose()\n",
    "for itag in sf_tags:\n",
    "    print itag\n",
    "    silent_struct = sfd.get_structure(itag)\n",
    "    silent_struct.fill_pose(poseA)\n",
    "    print \"Pose Info:\", poseA\n",
    "    break   #Remove this\""
   ]
  },
  {
   "cell_type": "code",
   "execution_count": null,
   "metadata": {
    "collapsed": true
   },
   "outputs": [],
   "source": []
  },
  {
   "cell_type": "code",
   "execution_count": 12,
   "metadata": {
    "collapsed": true
   },
   "outputs": [],
   "source": [
    "#But what is poseA?\n",
    "poseA?\n"
   ]
  },
  {
   "cell_type": "code",
   "execution_count": 13,
   "metadata": {},
   "outputs": [
    {
     "name": "stdout",
     "output_type": "stream",
     "text": [
      "Sequence: PPSTALRELIEELVNITQNQKAPLCNGSMVWSINLTAGMYCAALESLINVSGCSAIEKTQRMLSGFCPHKVSAGQFSSLHVRDTKIEVAQFVKDLLLHLKKLFREGRFNPTAKLQDDEAEWYSRDAANAAAALAAQTRVETRNDEIRSDS\n",
      "NumChain: 2\n"
     ]
    }
   ],
   "source": [
    "#OK get the sequence\n",
    "poseA_seq=poseA.sequence()\n",
    "pose_numChains=poseA.num_chains()\n",
    "print \"Sequence:\", poseA_seq\n",
    "print \"NumChain:\", pose_numChains\n"
   ]
  },
  {
   "cell_type": "code",
   "execution_count": 14,
   "metadata": {
    "collapsed": true
   },
   "outputs": [],
   "source": [
    "#WOW!!! I want the angles, how do I do it???\n",
    "%psearch poseA.*phi*\n"
   ]
  },
  {
   "cell_type": "code",
   "execution_count": 15,
   "metadata": {
    "collapsed": true
   },
   "outputs": [],
   "source": [
    "#Get the angles?\n",
    "poseA.phi?\n"
   ]
  },
  {
   "cell_type": "code",
   "execution_count": 16,
   "metadata": {},
   "outputs": [
    {
     "name": "stdout",
     "output_type": "stream",
     "text": [
      "The size of this pose is:  150\n",
      "And the angles are:\n",
      "1 0.0 143.936846773 -168.872937328\n",
      "2 -61.4870236988 -23.10161563 -179.528176756\n",
      "3 -81.8399083821 -7.40404873998 -175.996513911\n",
      "4 -54.1442362569 -51.1353851588 -177.030949849\n",
      "5 -59.3975921385 -43.2295843025 -177.728017184\n",
      "6 -68.8576457408 -40.813745137 176.650717297\n",
      "7 -54.8124949828 -51.1581862813 -177.571378124\n",
      "8 -65.8579010101 -39.6248314858 176.300787581\n",
      "9 -62.5205248453 -46.4090011713 176.376933124\n",
      "10 -57.7226884595 -45.1404471155 -179.722359652\n",
      "11 -58.2299569634 -40.9956599406 -179.691450327\n",
      "12 -66.6737106559 -42.8896130325 179.290353224\n",
      "13 -66.8124802238 -35.9928757076 172.366801421\n",
      "14 -60.834456991 -51.03494942 177.865489658\n",
      "15 -48.3724351612 -59.3959844726 -173.897777837\n",
      "16 -80.3304047945 16.1786772051 171.070154733\n",
      "17 -114.817289818 -4.91080382419 -176.055882142\n",
      "18 -119.418240497 -41.9745618424 -173.537036331\n",
      "19 -101.356482872 33.8710878164 175.767478032\n",
      "20 -117.5648983 98.8198828449 -175.041475839\n",
      "21 -65.95684214 -34.6981867553 -179.428827143\n",
      "22 -104.988157659 167.868434604 175.801521114\n",
      "23 -58.7778887126 122.355140936 -176.881028008\n",
      "24 -56.6215644503 129.204522047 -179.489296653\n",
      "25 52.6440971158 39.4299728682 174.095271164\n",
      "26 57.1822251679 24.3330470073 176.870380472\n",
      "27 84.9347483602 10.6184858548 179.710570899\n",
      "28 -52.9000454653 150.388650562 178.083335447\n",
      "29 -107.759511482 139.429534086 -179.064175996\n",
      "30 -131.19131972 148.161979127 -179.995242662\n",
      "31 -57.2990095676 128.244244299 178.116496466\n",
      "32 -74.7913294275 149.696654386 -177.286791191\n",
      "33 -117.213301316 151.164031122 176.301162705\n",
      "34 -79.4703574746 108.250954217 -173.052317529\n",
      "35 -70.7653925772 69.764140542 -178.815599053\n",
      "36 -141.043798795 -161.72729429 -177.822371045\n",
      "37 -58.939969031 129.51148529 179.969144124\n",
      "38 92.8424081578 -1.87100309629 -176.790349477\n",
      "39 -63.3884193885 -14.5532080631 177.375505403\n",
      "40 -67.3158191889 -37.808776182 -177.788346121\n",
      "41 -74.0106979417 -42.0666238568 178.838698488\n",
      "42 -60.2063006253 -41.0097524095 179.900007802\n",
      "43 -59.4854818145 -41.6471402543 177.278403193\n",
      "44 -72.8062805126 -41.1234119682 179.64172007\n",
      "45 -59.4665522995 -28.589941712 174.688706099\n",
      "46 -78.5236491925 -59.6990132335 -174.485625524\n",
      "47 -63.9050797597 -29.9764903082 178.448659552\n",
      "48 -54.5434500903 -22.4181192738 -178.110103582\n",
      "49 -80.4680192962 -10.1242823413 179.676615154\n",
      "50 -89.5386491392 73.5668224796 -177.941472052\n",
      "51 -86.6848132348 116.412182393 -177.796055191\n",
      "52 127.331454781 -4.06922638437 -177.949467234\n",
      "53 -112.262020056 97.9601666701 -176.597565721\n",
      "54 -61.7029579512 -29.031176051 -178.541464082\n",
      "55 -55.766935751 -24.893719198 -177.417809844\n",
      "56 -114.717931 13.783681907 -179.949834978\n",
      "57 -64.1694250021 -47.9342051376 178.614467722\n",
      "58 -62.8196176001 -42.699640879 179.760100982\n",
      "59 -53.8093704568 -47.930018217 -179.564475922\n",
      "60 -61.7977907359 -41.9410846683 179.000224942\n",
      "61 -60.7367772246 -51.0616598932 178.828466247\n",
      "62 -53.2058905034 -49.0121652313 -179.124262763\n",
      "63 -57.4087599092 -37.9936148593 -178.727719654\n",
      "64 -63.2436523304 -15.7646374394 179.123733025\n",
      "65 -82.5747894547 -20.5584362779 -179.330360319\n",
      "66 -90.0233879659 -30.6734193428 -176.589460503\n",
      "67 -88.9872557905 116.873074469 -178.946594764\n",
      "68 -51.3748082765 -24.0554855347 -177.331503816\n",
      "69 -123.851240783 154.71031857 177.337510563\n",
      "70 -66.9655379566 141.681776035 178.507835494\n",
      "71 -118.486974495 123.037861897 176.56423722\n",
      "72 -113.12312959 157.604888208 179.897296576\n",
      "73 -58.5522607215 137.612554421 -179.802960244\n",
      "74 86.5407250749 -10.3928492615 -179.757869594\n",
      "75 -82.3464285671 132.556761769 176.583052737\n",
      "76 -138.964132561 97.3265587961 -179.010890439\n",
      "77 -107.95253749 -51.9437056568 179.497128741\n",
      "78 -82.9979483589 -35.6979701314 -177.215738139\n",
      "79 -79.8839093777 81.1410955086 179.855943074\n",
      "80 -74.3548572727 -42.6511741769 -176.284852794\n",
      "81 -78.5432847847 80.324010793 176.683987374\n",
      "82 -107.847044465 72.9675077159 -179.419990276\n",
      "83 -126.775391752 -8.4656724861 -176.997616712\n",
      "84 -149.272100062 133.17747667 177.143990483\n",
      "85 -108.869910389 139.102208183 -179.546573644\n",
      "86 -126.427614995 163.624746032 178.150210071\n",
      "87 -62.0776316006 138.918387488 177.495222679\n",
      "88 -50.7059923707 -40.1828291578 179.919972425\n",
      "89 -58.0438932108 -34.0064505875 -179.380158897\n",
      "90 -77.1331716859 -43.8740447338 179.724585051\n",
      "91 -52.6457343045 -48.5061870804 178.385189528\n",
      "92 -60.1821681628 -45.8009429961 176.53159302\n",
      "93 -63.2384647143 -39.1935251661 179.576798478\n",
      "94 -67.9897304356 -42.8435096771 176.765845371\n",
      "95 -60.5224692102 -53.0301822002 -179.291231475\n",
      "96 -49.073023275 -50.3241693762 179.032965521\n",
      "97 -56.8330888446 -50.1680421599 -179.333608385\n",
      "98 -58.6857004634 -41.2733473666 -179.857762016\n",
      "99 -63.3880468888 -39.596970868 177.440297829\n",
      "100 -60.8211883082 -39.2344666159 175.360776495\n",
      "101 -57.0748841971 -49.6562940743 -177.160110337\n",
      "102 -61.5475478961 -42.144295806 -179.514551184\n",
      "103 -59.2893966625 -50.4180681671 177.886494508\n",
      "104 -55.0559762859 -42.4496875707 179.309323138\n",
      "105 -78.1196408536 0.574243770451 178.676119423\n",
      "106 73.4363371429 28.8272440629 -177.456953148\n",
      "107 -104.419486424 102.924654351 -173.73560562\n",
      "108 -104.690542439 28.4586375038 173.160119124\n",
      "109 -176.828400894 0.0 0.0\n",
      "110 0.0 130.041202804 -176.379380969\n",
      "111 -126.62261561 131.920373155 175.141070187\n",
      "112 -88.9536863852 151.094358014 175.905726924\n",
      "113 -117.108548115 143.971548719 179.867659496\n",
      "114 -155.514289534 109.897923276 -170.134349716\n",
      "115 51.0025747192 -115.092704103 -177.379352211\n",
      "116 -98.643230721 0.861307550144 178.221679575\n",
      "117 -97.9207771628 160.471791784 -179.228507791\n",
      "118 -128.924972371 62.9090495425 -177.664439483\n",
      "119 -50.04537843 115.67451172 -179.599539386\n",
      "120 -94.047884984 127.186078052 -175.624132344\n",
      "121 -121.959493348 170.494308385 176.51876755\n",
      "122 -90.1777263432 -27.1384983551 178.152646917\n",
      "123 -126.461726258 146.267946413 178.738526543\n",
      "124 -61.2071919579 -28.589056394 -179.238354211\n",
      "125 -65.9708226625 -32.1866193464 179.849493871\n",
      "126 -74.0590364959 -39.9833518369 178.610141968\n",
      "127 -64.0415462921 -41.4960865336 -178.77394198\n",
      "128 -67.2514078235 -35.9407837072 -175.552131707\n",
      "129 -69.1618464905 -49.124112788 -176.155851913\n",
      "130 -65.044637113 -42.5525403966 -175.261067652\n",
      "131 -56.9261653769 -35.5326638655 177.987648717\n",
      "132 -85.5811014932 -53.3073745449 -167.326542364\n",
      "133 -65.0135548998 -34.7127467254 -174.635465777\n",
      "134 -50.8470286243 -37.901640569 -173.203093909\n",
      "135 -134.186685642 10.0172195144 -177.413204321\n",
      "136 51.3747582028 53.8609606478 -169.253133353\n",
      "137 -131.178751529 -168.200202581 -177.422952431\n",
      "138 -87.7053327862 153.502916622 175.517394182\n",
      "139 -129.079735483 133.536303349 172.094725665\n",
      "140 -104.975158782 108.203788985 -171.588203477\n",
      "141 -105.907424441 118.575657396 177.574850944\n",
      "142 -128.069261292 86.0101229266 -173.415684713\n",
      "143 55.6358226414 -106.5412659 -172.321401336\n",
      "144 -95.3230506844 0.73871510777 177.187411727\n",
      "145 -108.947803059 113.119287546 -175.666798208\n",
      "146 -121.279898276 107.30326729 -172.933690118\n",
      "147 -97.1363004541 123.621683077 175.740696158\n",
      "148 -90.3107003191 126.710706524 -179.762787598\n",
      "149 -76.8333051667 72.6580700562 -179.641447626\n",
      "150 -151.238939953 0.0 0.0\n"
     ]
    }
   ],
   "source": [
    "#OK get the angles:\n",
    "print \"The size of this pose is: \", poseA.size()\n",
    "print \"And the angles are:\"\n",
    "for indx in xrange(1, poseA.size()+1): #Remmeber that rosetta is Odd and uses +1 indexes\n",
    "    print indx, poseA.phi(indx), poseA.psi(indx), poseA.omega(indx)\n"
   ]
  },
  {
   "cell_type": "code",
   "execution_count": 17,
   "metadata": {},
   "outputs": [
    {
     "name": "stdout",
     "output_type": "stream",
     "text": [
      "A 5\n",
      "< 150 -59.3975921385 -43.2295843025 -177.728017184\n",
      "> 150 -134.208833837 -24.2254633966 -177.728017184\n",
      "A 22\n",
      "< 150 -104.988157659 167.868434604 175.801521114\n",
      "> 150 -121.976048038 -92.6978222942 175.801521114\n",
      "M 29\n",
      "< 150 -107.759511482 139.429534086 -179.064175996\n",
      "> 150 -103.828560845 100.013157419 -179.064175996\n",
      "A 37\n",
      "< 150 -58.939969031 129.51148529 179.969144124\n",
      "> 150 -54.1001999474 139.627931477 179.969144124\n",
      "M 39\n",
      "< 150 -63.3884193885 -14.5532080631 177.375505403\n",
      "> 150 -39.0350075788 -146.167401921 177.375505403\n",
      "A 42\n",
      "< 150 -60.2063006253 -41.0097524095 179.900007802\n",
      "> 150 116.461385853 -121.733872884 179.900007802\n",
      "A 43\n",
      "< 150 -59.4854818145 -41.6471402543 177.278403193\n",
      "> 150 161.813500124 8.97363095403 177.278403193\n",
      "A 55\n",
      "< 150 -55.766935751 -24.893719198 -177.417809844\n",
      "> 150 146.326888316 -163.891054375 -177.417809844\n",
      "M 62\n",
      "< 150 -53.2058905034 -49.0121652313 -179.124262763\n",
      "> 150 -119.744464887 143.209611871 -179.124262763\n",
      "A 73\n",
      "< 150 -58.5522607215 137.612554421 -179.802960244\n",
      "> 150 -91.624284331 87.8272234324 -179.802960244\n",
      "A 89\n",
      "< 150 -58.0438932108 -34.0064505875 -179.380158897\n",
      "> 150 -105.928114604 143.998528802 -179.380158897\n",
      "A 112\n",
      "< 150 -88.9536863852 151.094358014 175.905726924\n",
      "> 150 -29.7666148669 -7.77966806835 175.905726924\n",
      "A 119\n",
      "< 150 -50.04537843 115.67451172 -179.599539386\n",
      "> 150 69.5263020516 13.9341765736 -179.599539386\n",
      "A 126\n",
      "< 150 -74.0590364959 -39.9833518369 178.610141968\n",
      "> 150 7.40700861627 -26.4069906811 178.610141968\n",
      "A 127\n",
      "< 150 -64.0415462921 -41.4960865336 -178.77394198\n",
      "> 150 -144.20224195 -41.8881654263 -178.77394198\n",
      "A 129\n",
      "< 150 -69.1618464905 -49.124112788 -176.155851913\n",
      "> 150 -40.1836674334 -121.996746091 -176.155851913\n",
      "A 130\n",
      "< 150 -65.044637113 -42.5525403966 -175.261067652\n",
      "> 150 74.9273369269 -61.8003466893 -175.261067652\n",
      "A 131\n",
      "< 150 -56.9261653769 -35.5326638655 177.987648717\n",
      "> 150 40.0212535586 -41.4691506332 177.987648717\n",
      "A 132\n",
      "< 150 -85.5811014932 -53.3073745449 -167.326542364\n",
      "> 150 -12.9384762291 110.799617648 -167.326542364\n",
      "A 134\n",
      "< 150 -50.8470286243 -37.901640569 -173.203093909\n",
      "> 150 -94.3008506469 83.1816096854 -173.203093909\n",
      "A 135\n",
      "< 150 -134.186685642 10.0172195144 -177.413204321\n",
      "> 150 -149.784259263 85.6379606431 -177.413204321\n"
     ]
    }
   ],
   "source": [
    "#Haha let's modify the angles to my desire:\n",
    "\n",
    "poseA_goodCopy=poseA.clone()\n",
    "for ires in xrange(1, poseA.size()+1):\n",
    "    if (poseA_seq[ires-1] == 'M') or (poseA_seq[ires-1] == 'A'): #Python works \"normally\", meaning 0-ndx\n",
    "        print poseA_seq[ires-1], ires\n",
    "        print \"<\",indx, poseA_goodCopy.phi(ires), poseA_goodCopy.psi(ires), poseA_goodCopy.omega(ires)\n",
    "        poseA_goodCopy.set_phi(ires, (numpy.random.random()*360)-180)\n",
    "        poseA_goodCopy.set_psi(ires, (numpy.random.random()*360)-180)\n",
    "        print \">\", indx, poseA_goodCopy.phi(ires), poseA_goodCopy.psi(ires), poseA_goodCopy.omega(ires)\n",
    "                                                                                                 "
   ]
  },
  {
   "cell_type": "code",
   "execution_count": 18,
   "metadata": {},
   "outputs": [
    {
     "data": {
      "text/plain": [
       "[]"
      ]
     },
     "execution_count": 18,
     "metadata": {},
     "output_type": "execute_result"
    },
    {
     "data": {
      "image/png": "[encoded data removed]",
      "text/plain": [
       "<matplotlib.figure.Figure at 0xaac1f90>"
      ]
     },
     "metadata": {},
     "output_type": "display_data"
    }
   ],
   "source": [
    "#Plot the phi,psi of the original protein\n",
    "plot=plt.subplot()\n",
    "for ires in xrange(1, poseA.size()+1):\n",
    "    plot.scatter( poseA.phi(ires), poseA.psi(ires))\n",
    "plot.plot()  \n"
   ]
  },
  {
   "cell_type": "code",
   "execution_count": 19,
   "metadata": {},
   "outputs": [
    {
     "data": {
      "text/plain": [
       "[]"
      ]
     },
     "execution_count": 19,
     "metadata": {},
     "output_type": "execute_result"
    },
    {
     "data": {
      "image/png": "[encoded data removed]",
      "text/plain": [
       "<matplotlib.figure.Figure at 0xaac1410>"
      ]
     },
     "metadata": {},
     "output_type": "display_data"
    }
   ],
   "source": [
    "#Plot the phi,psi of the original protein\n",
    "plot=plt.subplot()\n",
    "for ires in xrange(1, poseA.size()+1):\n",
    "    plot.scatter( poseA_goodCopy.phi(ires), poseA_goodCopy.psi(ires))\n",
    "plot.plot() "
   ]
  },
  {
   "cell_type": "code",
   "execution_count": null,
   "metadata": {
    "collapsed": true
   },
   "outputs": [],
   "source": []
  },
  {
   "cell_type": "code",
   "execution_count": 20,
   "metadata": {},
   "outputs": [
    {
     "name": "stdout",
     "output_type": "stream",
     "text": [
      "True\n"
     ]
    }
   ],
   "source": [
    "#Out_the_modified_pose\n",
    "mod_pdb_out_path=\"/work/dadriano/tmp/test_mod_pose.pdb\"\n",
    "status_out=poseA_goodCopy.dump_pdb(mod_pdb_out_path)\n",
    "print status_out\n"
   ]
  },
  {
   "cell_type": "code",
   "execution_count": 21,
   "metadata": {
    "collapsed": true
   },
   "outputs": [],
   "source": [
    "#Import some extra-usefull module\n",
    "import nglview as thisIsNotPymol\n"
   ]
  },
  {
   "cell_type": "code",
   "execution_count": 22,
   "metadata": {},
   "outputs": [
    {
     "name": "stdout",
     "output_type": "stream",
     "text": [
      "This is the structure of the original model (IL13-wannabe-inhibitor)\n"
     ]
    },
    {
     "data": {
      "application/vnd.jupyter.widget-view+json": {
       "model_id": "b15af68828b44b0bab232cd4447db3ea"
      }
     },
     "metadata": {},
     "output_type": "display_data"
    }
   ],
   "source": [
    "#Display the original protein\n",
    "print \"This is the structure of the original model (IL13-wannabe-inhibitor)\"\n",
    "proteinView = thisIsNotPymol.NGLWidget()\n",
    "view=thisIsNotPymol.show_structure_file(in_pdb_path)\n",
    "view\n"
   ]
  },
  {
   "cell_type": "code",
   "execution_count": 23,
   "metadata": {},
   "outputs": [
    {
     "name": "stdout",
     "output_type": "stream",
     "text": [
      "This is the structure of the modified structure\n"
     ]
    },
    {
     "data": {
      "application/vnd.jupyter.widget-view+json": {
       "model_id": "0c804354cdbb4689b0833367f076e328"
      }
     },
     "metadata": {},
     "output_type": "display_data"
    }
   ],
   "source": [
    "#Display the modified protein\n",
    "print \"This is the structure of the modified structure\"\n",
    "proteinView = thisIsNotPymol.NGLWidget()\n",
    "view=thisIsNotPymol.show_structure_file(mod_pdb_out_path)\n",
    "view\n"
   ]
  },
  {
   "cell_type": "code",
   "execution_count": 25,
   "metadata": {},
   "outputs": [
    {
     "name": "stdout",
     "output_type": "stream",
     "text": [
      "This class wall time was: 87 secods\n"
     ]
    }
   ],
   "source": [
    "#print some unecessary information\n",
    "end_class_time=time.time()\n",
    "print \"This class wall time was: %d secods\"%(end_class_time-init_class_time)\n"
   ]
  },
  {
   "cell_type": "code",
   "execution_count": 26,
   "metadata": {},
   "outputs": [
    {
     "name": "stdout",
     "output_type": "stream",
     "text": [
      "HOMEWORK1. Do this: \n",
      "\n",
      " poseA_badCopy=poseA \n",
      "\n",
      "QUESTION: What happen if you modify the angles for \"poseA_badCopy\"?\n"
     ]
    }
   ],
   "source": [
    "print \"HOMEWORK1. Do this: \\n\\n poseA_badCopy=poseA \\n\\nQUESTION: What happen if you modify the angles for \\\"poseA_badCopy\\\"?\" \n"
   ]
  },
  {
   "cell_type": "code",
   "execution_count": 27,
   "metadata": {},
   "outputs": [
    {
     "name": "stdout",
     "output_type": "stream",
     "text": [
      "Object `you` not found.\n",
      "A silent file with the most common fragments of the PDB can be found here: \n"
     ]
    }
   ],
   "source": [
    "print \"HOMEWORK2. It should be pretty-pretty simple (less than 200-400 lines of code maybe), almost trivial, to build a cheap-fragment assembler for de-novo (blue-print style) with this, can you?\n",
    "print \"A silent file with the most common fragments of the PDB can be found here: \", \n"
   ]
  },
  {
   "cell_type": "code",
   "execution_count": null,
   "metadata": {
    "collapsed": true
   },
   "outputs": [],
   "source": [
    "print \"HOMEWORK2. It should be pretty-pretty simple (less than 200-400 lines of code maybe), almost trivial, to build a cheap-fragment assembler for de-novo (blue-print style) with this, can you"
   ]
  },
  {
   "cell_type": "code",
   "execution_count": null,
   "metadata": {
    "collapsed": true
   },
   "outputs": [],
   "source": [
    "print \"HOMEWORK2. It should be pretty-pretty simple (less than 200-400 lines of code maybe), almost trivial, to build a cheap-fragment assembler for de-novo (blue-print style) with this, can you"
   ]
  },
  {
   "cell_type": "code",
   "execution_count": null,
   "metadata": {
    "collapsed": true
   },
   "outputs": [],
   "source": []
  }
 ],
 "metadata": {
  "kernelspec": {
   "display_name": "Python 2",
   "language": "python",
   "name": "python2"
  },
  "language_info": {
   "codemirror_mode": {
    "name": "ipython",
    "version": 2
   },
   "file_extension": ".py",
   "mimetype": "text/x-python",
   "name": "python",
   "nbconvert_exporter": "python",
   "pygments_lexer": "ipython2",
   "version": "2.7.3"
  }
 },
 "nbformat": 4,
 "nbformat_minor": 2
}
