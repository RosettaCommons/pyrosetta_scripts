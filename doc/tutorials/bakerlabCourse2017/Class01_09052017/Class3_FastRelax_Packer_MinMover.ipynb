{
 "cells": [
  {
   "cell_type": "code",
   "execution_count": 11,
   "metadata": {},
   "outputs": [
    {
     "name": "stdout",
     "output_type": "stream",
     "text": [
      "Found rosetta database at: /work/dadriano/.virtualenvs/may2017_pyrosetta_newDigs/lib/python2.7/site-packages/pyrosetta-4.0-py2.7.egg/database; using it....\n",
      "PyRosetta-4 2016 [Rosetta 2016 unknown:fdd9e71c3a71b1bbd5e9e6f21327432d10df240c 2017-03-27 11:09:48 -0400] retrieved from: git@github.com:RosettaCommons/main.git\n",
      "(C) Copyright Rosetta Commons Member Institutions.\n",
      "Created in JHU by Sergey Lyskov and PyRosetta Team.\n",
      "\n"
     ]
    }
   ],
   "source": [
    "from pyrosetta import *\n",
    "\n",
    "#Removing -mute all is a good idea for debugging\n",
    "init(\"-beta_nov16_cart -ignore_unrecognized_res -mute all -ex1 -ex2aro\") \n"
   ]
  },
  {
   "cell_type": "code",
   "execution_count": 12,
   "metadata": {
    "collapsed": true
   },
   "outputs": [],
   "source": [
    "# First do some initial setup\n",
    "\n",
    "pose = pose_from_pdb(\"src_pdbs/LPC_dryRun_3lB6A_Mf14aa_order00029_ndx6_c189_2cig12p_0001_-41.8_re1_6_EEHEE_0883_0001_0002.pdb\")\n",
    "save_pose = pose.clone()\n",
    "\n",
    "scorefxn = get_fa_scorefxn()\n"
   ]
  },
  {
   "cell_type": "code",
   "execution_count": 15,
   "metadata": {},
   "outputs": [],
   "source": [
    "# First we're going to do FastRelax because it has the easiest setup\n",
    "\n",
    "# Initialize the FastRelax (mover) with iterations\n",
    "fast_relax = rosetta.protocols.relax.FastRelax(1)\n",
    "fast_relax.set_scorefxn(scorefxn)\n",
    "fast_relax.cartesian(True)\n",
    "#fast_relax.constrain_coords(True)\n",
    "\n",
    "# Optionally give it a movemap\n",
    "#fast_relax.set_movemap(mm)"
   ]
  },
  {
   "cell_type": "code",
   "execution_count": null,
   "metadata": {
    "collapsed": true
   },
   "outputs": [],
   "source": [
    "# Watch out, this takes a long time\n",
    "print(\"Before score: %.3f\"%scorefxn(pose))\n",
    "\n",
    "fast_relax.apply(pose)\n",
    "\n",
    "print(\" After score: %.3f\"%scorefxn(pose))\n",
    "\n",
    "pose = save_pose.clone()"
   ]
  },
  {
   "cell_type": "code",
   "execution_count": 16,
   "metadata": {},
   "outputs": [
    {
     "name": "stdout",
     "output_type": "stream",
     "text": [
      "Design interface\n",
      "vector1_unsigned_long[111, 112, 113, 114, 115, 116, 117, 118, 119, 120, 121, 122, 123, 124, 125, 126, 127, 128, 129, 130, 131, 132, 133, 134, 135, 136, 137, 146, 148, 150]\n",
      "Repack interface\n",
      "vector1_unsigned_long[1, 2, 3, 4, 5, 6, 7, 8, 9, 11, 12, 40, 41, 44, 57, 58, 60, 61, 62, 63, 64, 65, 66, 67, 68, 69, 70, 71, 72, 107, 108, 109]\n"
     ]
    }
   ],
   "source": [
    "# Using the Packer and TaskOperations\n",
    "\n",
    "# Now we're going to do some interface design. The idea is to design\n",
    "#  the interface on chain B while repacking the interface on\n",
    "#  chain A.\n",
    "\n",
    "# First we need to setup some residue selectors\n",
    "\n",
    "chain_A = rosetta.core.select.residue_selector.ChainSelector(\"A\")\n",
    "chain_B = rosetta.core.select.residue_selector.ChainSelector(\"B\")\n",
    "\n",
    "# Neighbors near chain_A, within 7 A, but not chain_A\n",
    "design_interface = rosetta.core.select.residue_selector.NeighborhoodResidueSelector(\n",
    "    chain_A, 7, False )\n",
    "\n",
    "# Neighbors near chain_B, within 7 A, but not chain_B\n",
    "repack_interface = rosetta.core.select.residue_selector.NeighborhoodResidueSelector(\n",
    "    chain_B, 7, False )\n",
    "\n",
    "# The combined set that we're going to work on\n",
    "do_something_set = rosetta.core.select.residue_selector.OrResidueSelector(\n",
    "    design_interface, repack_interface)\n",
    "\n",
    "\n",
    "# The neighborhood residue selectors require the pose to be scored so let's make sure\n",
    "#  that's true.\n",
    "scorefxn(pose)\n",
    "\n",
    "\n",
    "# Here's a one-liner to show a residue selector\n",
    "print(\"Design interface\")\n",
    "print(rosetta.core.select.get_residues_from_subset(design_interface.apply(pose)))\n",
    "print(\"Repack interface\")\n",
    "print(rosetta.core.select.get_residues_from_subset(repack_interface.apply(pose)))"
   ]
  },
  {
   "cell_type": "code",
   "execution_count": 17,
   "metadata": {
    "collapsed": true
   },
   "outputs": [],
   "source": [
    "# Now lets see how to set up task operations\n",
    "\n",
    "# The task factory accepts all the task operations\n",
    "tf = rosetta.core.pack.task.TaskFactory()\n",
    "\n",
    "# These three are pretty standard\n",
    "tf.push_back(rosetta.core.pack.task.operation.InitializeFromCommandline())\n",
    "tf.push_back(rosetta.core.pack.task.operation.IncludeCurrent())\n",
    "tf.push_back(rosetta.core.pack.task.operation.NoRepackDisulfides())\n",
    "\n",
    "\n",
    "# If we weren't going to be designing, we would use this too\n",
    "# tf.push_back(rosetta.core.pack.task.operation.RestrictToRepacking())\n",
    "\n",
    "# disable design on the only repack part\n",
    "tf.push_back(rosetta.core.pack.task.operation.OperateOnResidueSubset(\n",
    "    rosetta.core.pack.task.operation.RestrictToRepackingRLT(), repack_interface ))\n",
    "\n",
    "# don't repack the rest of the protein\n",
    "tf.push_back(rosetta.core.pack.task.operation.OperateOnResidueSubset(\n",
    "    rosetta.core.pack.task.operation.PreventRepackingRLT(), do_something_set, True ))\n",
    "                                                                     #        ^^^^\n",
    "                                                                     #invert selection\n",
    "\n",
    "# Include a ResFile\n",
    "# tf.push_back(rosetta.core.pack.task.operation.ReadResfile(\"your/res/file\"))\n",
    "\n",
    "# Going to use only polar residues because I heard hydrogen bonds are good\n",
    "aa_to_design = rosetta.core.pack.task.operation.RestrictAbsentCanonicalAASRLT()\n",
    "aa_to_design.aas_to_keep( \"STQN\" )\n",
    "\n",
    "tf.push_back(rosetta.core.pack.task.operation.OperateOnResidueSubset(\n",
    "    aa_to_design, design_interface ))\n",
    "\n",
    "\n",
    "# Have to convert the task factory into a PackerTask\n",
    "task = tf.create_task_and_apply_taskoperations( pose )\n"
   ]
  },
  {
   "cell_type": "code",
   "execution_count": 6,
   "metadata": {},
   "outputs": [
    {
     "name": "stdout",
     "output_type": "stream",
     "text": [
      "#Packer_Task\n",
      "\n",
      "resid\tpack?\tdesign?\tallowed_aas\n",
      "1\tTRUE\tFALSE\tPRO:NtermProteinFull\n",
      "2\tTRUE\tFALSE\tPRO\n",
      "3\tTRUE\tFALSE\tSER\n",
      "4\tTRUE\tFALSE\tTHR\n",
      "5\tTRUE\tFALSE\tALA\n",
      "6\tTRUE\tFALSE\tLEU\n",
      "7\tTRUE\tFALSE\tARG\n",
      "8\tTRUE\tFALSE\tGLU\n",
      "9\tTRUE\tFALSE\tLEU\n",
      "10\tFALSE\tFALSE\t\n",
      "11\tTRUE\tFALSE\tGLU\n",
      "12\tTRUE\tFALSE\tGLU\n",
      "13\tFALSE\tFALSE\t\n",
      "14\tFALSE\tFALSE\t\n",
      "15\tFALSE\tFALSE\t\n",
      "16\tFALSE\tFALSE\t\n",
      "17\tFALSE\tFALSE\t\n",
      "18\tFALSE\tFALSE\t\n",
      "19\tFALSE\tFALSE\t\n",
      "20\tFALSE\tFALSE\t\n",
      "21\tFALSE\tFALSE\t\n",
      "22\tFALSE\tFALSE\t\n",
      "23\tFALSE\tFALSE\t\n",
      "24\tFALSE\tFALSE\t\n",
      "25\tFALSE\tFALSE\t\n",
      "26\tFALSE\tFALSE\t\n",
      "27\tFALSE\tFALSE\t\n",
      "28\tFALSE\tFALSE\t\n",
      "29\tFALSE\tFALSE\t\n",
      "30\tFALSE\tFALSE\t\n",
      "31\tFALSE\tFALSE\t\n",
      "32\tFALSE\tFALSE\t\n",
      "33\tFALSE\tFALSE\t\n",
      "34\tFALSE\tFALSE\t\n",
      "35\tFALSE\tFALSE\t\n",
      "36\tFALSE\tFALSE\t\n",
      "37\tFALSE\tFALSE\t\n",
      "38\tFALSE\tFALSE\t\n",
      "39\tFALSE\tFALSE\t\n",
      "40\tTRUE\tFALSE\tTYR\n",
      "41\tFALSE\tFALSE\t\n",
      "42\tFALSE\tFALSE\t\n",
      "43\tFALSE\tFALSE\t\n",
      "44\tTRUE\tFALSE\tLEU\n",
      "45\tFALSE\tFALSE\t\n",
      "46\tFALSE\tFALSE\t\n",
      "47\tFALSE\tFALSE\t\n",
      "48\tFALSE\tFALSE\t\n",
      "49\tFALSE\tFALSE\t\n",
      "50\tFALSE\tFALSE\t\n",
      "51\tFALSE\tFALSE\t\n",
      "52\tFALSE\tFALSE\t\n",
      "53\tFALSE\tFALSE\t\n",
      "54\tFALSE\tFALSE\t\n",
      "55\tFALSE\tFALSE\t\n",
      "56\tFALSE\tFALSE\t\n",
      "57\tTRUE\tFALSE\tGLU\n",
      "58\tTRUE\tFALSE\tLYS\n",
      "59\tFALSE\tFALSE\t\n",
      "60\tTRUE\tFALSE\tGLN\n",
      "61\tTRUE\tFALSE\tARG\n",
      "62\tTRUE\tFALSE\tMET\n",
      "63\tTRUE\tFALSE\tLEU\n",
      "64\tTRUE\tFALSE\tSER\n",
      "65\tTRUE\tFALSE\tGLY\n",
      "66\tTRUE\tFALSE\tPHE\n",
      "67\tFALSE\tFALSE\t\n",
      "68\tTRUE\tFALSE\tPRO\n",
      "69\tTRUE\tFALSE\tHIS,HIS_D\n",
      "70\tTRUE\tFALSE\tLYS\n",
      "71\tTRUE\tFALSE\tVAL\n",
      "72\tTRUE\tFALSE\tSER\n",
      "73\tFALSE\tFALSE\t\n",
      "74\tFALSE\tFALSE\t\n",
      "75\tFALSE\tFALSE\t\n",
      "76\tFALSE\tFALSE\t\n",
      "77\tFALSE\tFALSE\t\n",
      "78\tFALSE\tFALSE\t\n",
      "79\tFALSE\tFALSE\t\n",
      "80\tFALSE\tFALSE\t\n",
      "81\tFALSE\tFALSE\t\n",
      "82\tFALSE\tFALSE\t\n",
      "83\tFALSE\tFALSE\t\n",
      "84\tFALSE\tFALSE\t\n",
      "85\tFALSE\tFALSE\t\n",
      "86\tFALSE\tFALSE\t\n",
      "87\tFALSE\tFALSE\t\n",
      "88\tFALSE\tFALSE\t\n",
      "89\tFALSE\tFALSE\t\n",
      "90\tFALSE\tFALSE\t\n",
      "91\tFALSE\tFALSE\t\n",
      "92\tFALSE\tFALSE\t\n",
      "93\tFALSE\tFALSE\t\n",
      "94\tFALSE\tFALSE\t\n",
      "95\tFALSE\tFALSE\t\n",
      "96\tFALSE\tFALSE\t\n",
      "97\tFALSE\tFALSE\t\n",
      "98\tFALSE\tFALSE\t\n",
      "99\tFALSE\tFALSE\t\n",
      "100\tFALSE\tFALSE\t\n",
      "101\tFALSE\tFALSE\t\n",
      "102\tFALSE\tFALSE\t\n",
      "103\tFALSE\tFALSE\t\n",
      "104\tFALSE\tFALSE\t\n",
      "105\tFALSE\tFALSE\t\n",
      "106\tFALSE\tFALSE\t\n",
      "107\tTRUE\tFALSE\tARG\n",
      "108\tTRUE\tFALSE\tPHE\n",
      "109\tTRUE\tFALSE\tASN:CtermProteinFull\n",
      "110\tFALSE\tFALSE\t\n",
      "111\tTRUE\tTRUE\tASN,GLN,SER,THR\n",
      "112\tTRUE\tTRUE\tASN,GLN,SER,THR\n",
      "113\tTRUE\tTRUE\tASN,GLN,SER,THR\n",
      "114\tTRUE\tTRUE\tASN,GLN,SER,THR\n",
      "115\tTRUE\tTRUE\tASN,GLN,SER,THR\n",
      "116\tTRUE\tTRUE\tASN,GLN,SER,THR\n",
      "117\tTRUE\tTRUE\tASN,GLN,SER,THR\n",
      "118\tTRUE\tTRUE\tASN,GLN,SER,THR\n",
      "119\tTRUE\tTRUE\tASN,GLN,SER,THR\n",
      "120\tTRUE\tTRUE\tASN,GLN,SER,THR\n",
      "121\tTRUE\tTRUE\tASN,GLN,SER,THR\n",
      "122\tTRUE\tTRUE\tASN,GLN,SER,THR\n",
      "123\tTRUE\tTRUE\tASN,GLN,SER,THR\n",
      "124\tTRUE\tTRUE\tASN,GLN,SER,THR\n",
      "125\tTRUE\tTRUE\tASN,GLN,SER,THR\n",
      "126\tTRUE\tTRUE\tASN,GLN,SER,THR\n",
      "127\tTRUE\tTRUE\tASN,GLN,SER,THR\n",
      "128\tTRUE\tTRUE\tASN,GLN,SER,THR\n",
      "129\tTRUE\tTRUE\tASN,GLN,SER,THR\n",
      "130\tTRUE\tTRUE\tASN,GLN,SER,THR\n",
      "131\tTRUE\tTRUE\tASN,GLN,SER,THR\n",
      "132\tTRUE\tTRUE\tASN,GLN,SER,THR\n",
      "133\tTRUE\tTRUE\tASN,GLN,SER,THR\n",
      "134\tTRUE\tTRUE\tASN,GLN,SER,THR\n",
      "135\tTRUE\tTRUE\tASN,GLN,SER,THR\n",
      "136\tTRUE\tTRUE\tASN,GLN,SER,THR\n",
      "137\tTRUE\tTRUE\tASN,GLN,SER,THR\n",
      "138\tFALSE\tFALSE\t\n",
      "139\tFALSE\tFALSE\t\n",
      "140\tFALSE\tFALSE\t\n",
      "141\tFALSE\tFALSE\t\n",
      "142\tFALSE\tFALSE\t\n",
      "143\tFALSE\tFALSE\t\n",
      "144\tFALSE\tFALSE\t\n",
      "145\tFALSE\tFALSE\t\n",
      "146\tTRUE\tTRUE\tASN,GLN,SER,THR\n",
      "147\tFALSE\tFALSE\t\n",
      "148\tTRUE\tTRUE\tASN,GLN,SER,THR\n",
      "149\tFALSE\tFALSE\t\n",
      "150\tTRUE\tTRUE\tASN:CtermProteinFull,GLN:CtermProteinFull,SER:CtermProteinFull,THR:CtermProteinFull\n",
      "\n"
     ]
    }
   ],
   "source": [
    "# Let's see what the PackerTask looks like\n",
    "print(task)"
   ]
  },
  {
   "cell_type": "code",
   "execution_count": 7,
   "metadata": {},
   "outputs": [
    {
     "name": "stdout",
     "output_type": "stream",
     "text": [
      "Before score: 56.045\n",
      " After score: 78.874\n"
     ]
    }
   ],
   "source": [
    "# Now it's finally time to use the packer\n",
    "\n",
    "# The packer takes a scorefunction and a PackerTask\n",
    "pack_mover = rosetta.protocols.simple_moves.PackRotamersMover(scorefxn, task)\n",
    "\n",
    "print(\"Before score: %.3f\"%scorefxn(pose))\n",
    "\n",
    "pack_mover.apply(pose)\n",
    "\n",
    "print(\" After score: %.3f\"%scorefxn(pose))\n",
    "\n"
   ]
  },
  {
   "cell_type": "code",
   "execution_count": 8,
   "metadata": {},
   "outputs": [
    {
     "name": "stdout",
     "output_type": "stream",
     "text": [
      "PPSTALRELIEELVNITQNQKAPLCNGSMVWSINLTAGMYCAALESLINVSGCSAIEKTQRMLSGFCPHKVSAGQFSSLHVRDTKIEVAQFVKDLLLHLKKLFREGRFNPTAKLQDDEAEWYSRDAANAAAALAAQTRVETRNDEIRSDS\n",
      "PPSTALRELIEELVNITQNQKAPLCNGSMVWSINLTAGMYCAALESLINVSGCSAIEKTQRMLSGFCPHKVSAGQFSSLHVRDTKIEVAQFVKDLLLHLKKLFREGRFNPTSTSQSSTSTTSSSNSSNSSSSNSNQTRVETRNDETRSDT\n"
     ]
    }
   ],
   "source": [
    "# Let's compare sequences to see what happened:\n",
    "print save_pose.sequence()\n",
    "print pose.sequence()\n"
   ]
  },
  {
   "cell_type": "code",
   "execution_count": 9,
   "metadata": {},
   "outputs": [
    {
     "name": "stdout",
     "output_type": "stream",
     "text": [
      "Before score: 78.874\n",
      " After score: 1.443\n"
     ]
    },
    {
     "data": {
      "text/plain": [
       "True"
      ]
     },
     "execution_count": 9,
     "metadata": {},
     "output_type": "execute_result"
    }
   ],
   "source": [
    "# Now let's use the minimizer to clean up the packing\n",
    "\n",
    "# Movemap the moves everything\n",
    "mm = rosetta.core.kinematics.MoveMap()\n",
    "mm.set_bb(True)\n",
    "mm.set_chi(True)\n",
    "mm.set_jump(True)\n",
    "\n",
    "\n",
    "# vector1 of true/false for each residue in the pose\n",
    "subset_to_minimize = do_something_set.apply(pose)\n",
    "\n",
    "for i in range(1, pose.size() + 1):\n",
    "    if ( not subset_to_minimize[i] ):\n",
    "        mm.set_bb(i, False)\n",
    "        mm.set_chi(i, False)\n",
    "\n",
    "\n",
    "min_mover = rosetta.protocols.simple_moves.MinMover()\n",
    "min_mover.cartesian(True)\n",
    "min_mover.movemap(mm)\n",
    "min_mover.tolerance(1E-4)\n",
    "min_mover.score_function(scorefxn)\n",
    "\n",
    "print(\"Before score: %.3f\"%scorefxn(pose))\n",
    "min_mover.apply(pose)\n",
    "print(\" After score: %.3f\"%scorefxn(pose))\n",
    "\n",
    "\n",
    "# Let's dump the pdb so we can save this awesome design\n",
    "pose.dump_pdb(\"awesome_design.pdb\")\n",
    "\n",
    "\n",
    "\n"
   ]
  },
  {
   "cell_type": "code",
   "execution_count": null,
   "metadata": {
    "collapsed": true
   },
   "outputs": [],
   "source": [
    "# I want to test something Daniel told me\n",
    "# He said that you don't need a virtual root for cartesian minimization\n",
    "# even if you use coordinate constraints\n",
    "\n",
    "\n",
    "# Set up a coordinate constraint to pull the first atom out to -1000, -1000, -1000\n",
    "harmonic = rosetta.core.scoring.func.HarmonicFunc( 0, 0.0001 )\n",
    "\n",
    "constrained_atom = rosetta.core.id.AtomID( pose.residue(1).atom_index(\"N\"), 1 )\n",
    "root_atom = rosetta.core.id.AtomID( 1, pose.fold_tree().root() )\n",
    "\n",
    "point = rosetta.numeric.xyzVector_double_t( -1000, -1000, -1000 )\n",
    "\n",
    "\n",
    "# syntax is: constrained atom, atom that won't move, xyz, func\n",
    "cst = rosetta.core.scoring.constraints.CoordinateConstraint(\n",
    "        constrained_atom, root_atom, point, harmonic)\n",
    "\n",
    "\n",
    "# Really we only need jumps turned on, but it doesn't hurt to have it all on\n",
    "mm = rosetta.core.kinematics.MoveMap()\n",
    "mm.set_bb(True)\n",
    "mm.set_chi(True)\n",
    "mm.set_jump(True)\n",
    "\n",
    "min_mover = rosetta.protocols.simple_moves.MinMover()\n",
    "min_mover.cartesian(True)\n",
    "min_mover.movemap(mm)\n",
    "min_mover.tolerance(1E-4)\n",
    "min_mover.score_function(scorefxn)\n",
    "\n",
    "\n",
    "print(\"Before: \" + str(pose.residue(1).atom(1)))\n",
    "\n",
    "pose.add_constraint(cst)\n",
    "min_mover.apply(pose)\n",
    "pose.remove_constraints()\n",
    "\n",
    "print(\"After:\" + str(pose.residue(1).atom(1)))\n",
    "\n",
    "\n",
    "# What do you know, Daniel was right\n",
    "\n",
    "pose = save_pose.clone()\n",
    "\n"
   ]
  }
 ],
 "metadata": {
  "kernelspec": {
   "display_name": "Python 2",
   "language": "python",
   "name": "python2"
  },
  "language_info": {
   "codemirror_mode": {
    "name": "ipython",
    "version": 2
   },
   "file_extension": ".py",
   "mimetype": "text/x-python",
   "name": "python",
   "nbconvert_exporter": "python",
   "pygments_lexer": "ipython2",
   "version": "2.7.3"
  }
 },
 "nbformat": 4,
 "nbformat_minor": 2
}
