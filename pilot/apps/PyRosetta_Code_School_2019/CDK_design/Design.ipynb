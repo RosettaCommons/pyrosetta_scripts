{
 "cells": [
  {
   "cell_type": "code",
   "execution_count": 38,
   "metadata": {},
   "outputs": [],
   "source": [
    "import pyrosetta\n",
    "import pyrosetta.distributed.dask\n",
    "import pyrosetta.distributed.io as io\n",
    "import pyrosetta.distributed.packed_pose as packed_pose\n",
    "import pyrosetta.distributed.tasks.rosetta_scripts as rosetta_scripts\n",
    "import pyrosetta.distributed.tasks.score as score\n",
    "from dask.distributed import Client, LocalCluster\n",
    "\n"
   ]
  },
  {
   "cell_type": "code",
   "execution_count": 43,
   "metadata": {},
   "outputs": [],
   "source": [
    "my_flags = \"-extra_res_fa ATP.am1-bcc.fa.params 295.am1-bcc.fa.params -score:extra_torsion_file Temp_ATP/ATP.am1-bcc.fa.tors\"\n",
    "\n",
    "pyrosetta.distributed.dask.init_notebook(my_flags)"
   ]
  },
  {
   "cell_type": "code",
   "execution_count": 44,
   "metadata": {},
   "outputs": [
    {
     "name": "stdout",
     "output_type": "stream",
     "text": [
      "\u001b[0mcore.import_pose.import_pose: \u001b[0mFile 'CDK9_ATP_3BLQ_relaxed.pdb' automatically determined to be of type PDB\n",
      "\u001b[0mcore.io.pose_from_sfr.PoseFromSFRBuilder: \u001b[0m\u001b[1m[ WARNING ]\u001b[0m discarding 14 atoms at position 296 in file CDK9_ATP_3BLQ_relaxed.pdb. Best match rsd_type:  ATP\n",
      "\u001b[0mcore.scoring.CartesianBondedEnergy: \u001b[0mCreating new peptide-bonded energy container (296)\n"
     ]
    }
   ],
   "source": [
    "pose_start = score.ScorePoseTask(weights=\"ref2015_cart\")(io.pose_from_file(\"CDK9_ATP_3BLQ_relaxed.pdb\"))"
   ]
  },
  {
   "cell_type": "code",
   "execution_count": 41,
   "metadata": {},
   "outputs": [],
   "source": [
    "def run_fast_design(pose_start):\n",
    "    \n",
    "    pose_start = packed_pose.to_pose(pose_start)\n",
    "    \n",
    "    scorefxn_cart = pyrosetta.create_score_function(\"ref2015_cart\")\n",
    "    atp_res = pyrosetta.rosetta.core.select.residue_selector.ChainSelector(\"X\")\n",
    "    \n",
    "    # Selector for repacking NOT ligand + small shell\n",
    "    neighboor = pyrosetta.rosetta.core.select.residue_selector.NeighborhoodResidueSelector(selector=atp_res, \n",
    "                                                                                           distance=8,\n",
    "                                                                                           include_focus_in_subset=False)\n",
    "    \n",
    "    # Selector for minimization Ligand + broad shell\n",
    "    neighboor2 = pyrosetta.rosetta.core.select.residue_selector.NeighborhoodResidueSelector(selector=atp_res, \n",
    "                                                                                           distance=16,\n",
    "                                                                                           include_focus_in_subset=True)\n",
    "    \n",
    "    not_neighboor = pyrosetta.rosetta.core.select.residue_selector.NotResidueSelector(neighboor)\n",
    "    not_neighboor2 = pyrosetta.rosetta.core.select.residue_selector.NotResidueSelector(neighboor2)\n",
    "\n",
    "    # Initiate TaskFactory\n",
    "    tf = pyrosetta.rosetta.core.pack.task.TaskFactory()\n",
    "\n",
    "    tf.push_back(pyrosetta.rosetta.core.pack.task.operation.InitializeFromCommandline())\n",
    "    tf.push_back(pyrosetta.rosetta.core.pack.task.operation.IncludeCurrent())\n",
    "\n",
    "    # Disable design outside design shell\n",
    "    tf.push_back(\n",
    "        pyrosetta.rosetta.core.pack.task.operation.OperateOnResidueSubset(\n",
    "            pyrosetta.rosetta.core.pack.task.operation.PreventRepackingRLT(), not_neighboor)\n",
    "    )\n",
    "\n",
    "    \n",
    "    # Remove Cys from design\n",
    "    aa_to_design = pyrosetta.rosetta.core.pack.task.operation.RestrictAbsentCanonicalAASRLT()\n",
    "    aa_to_design.aas_to_keep(\"ADEFGHIKLMNPQRSTVWY\")\n",
    "    tf.push_back(pyrosetta.rosetta.core.pack.task.operation.OperateOnResidueSubset(aa_to_design, neighboor))\n",
    "                 \n",
    "                 \n",
    "    # Convert task factory into PackerTask just to view \n",
    "    #packer_task = tf.create_task_and_apply_taskoperations(pose_start)\n",
    "    \n",
    "    \n",
    "    # Set MoveMapFactory\n",
    "    \n",
    "    # Set up a MoveMapFactory\n",
    "    mmf = pyrosetta.rosetta.core.select.movemap.MoveMapFactory()\n",
    "    mmf.all_bb(setting=True)  # Set to true if needed\n",
    "    mmf.all_bondangles(setting=True)\n",
    "    mmf.all_bondlengths(setting=True)\n",
    "    mmf.all_chi(setting=True)\n",
    "    mmf.all_jumps(setting=True)\n",
    "    mmf.set_cartesian(setting=True)\n",
    "\n",
    "# Set movemap actions to turn on or off certain torsions, overriding the above defaults\n",
    "    enable = pyrosetta.rosetta.core.select.movemap.move_map_action.mm_enable\n",
    "    disable = pyrosetta.rosetta.core.select.movemap.move_map_action.mm_disable\n",
    "\n",
    "# Set custom minimizable torsions\n",
    "\n",
    "    mmf.add_bondangles_action(action=disable, selector=neighboor2)\n",
    "    mmf.add_bondlengths_action(action=disable, selector=neighboor2)\n",
    "    mmf.add_chi_action(action=disable, selector=neighboor2)\n",
    "\n",
    "    \n",
    "    \n",
    "    \n",
    "\n",
    "    # Set up FastDesign\n",
    "\n",
    "    fast_design = pyrosetta.rosetta.protocols.denovo_design.movers.FastDesign(scorefxn_in=scorefxn, \n",
    "                                                                              standard_repeats=5)\n",
    "    fast_design.set_task_factory(tf)\n",
    "    fast_design.set_movemap_factory(mmf)\n",
    "    fast_design.set_scorefxn(scorefxn_cart)\n",
    "    fast_design.set_cartesian(True)\n",
    "    \n",
    "    # Apply FastDesign\n",
    "    fast_design.apply(pose_start)\n",
    "    \n",
    "    return score.ScorePoseTask(weights=\"ref2015_cart\")(packed_pose.to_packed(pose_start))\n",
    "\n"
   ]
  },
  {
   "cell_type": "code",
   "execution_count": 3,
   "metadata": {},
   "outputs": [
    {
     "name": "stdout",
     "output_type": "stream",
     "text": [
      "\u001b[0mcore.import_pose.import_pose: \u001b[0mFile 'CDK9_ATP_3BLQ_relaxed.pdb' automatically determined to be of type PDB\n",
      "\u001b[0mcore.io.pose_from_sfr.PoseFromSFRBuilder: \u001b[0m\u001b[1m[ WARNING ]\u001b[0m discarding 14 atoms at position 296 in file CDK9_ATP_3BLQ_relaxed.pdb. Best match rsd_type:  ATP\n"
     ]
    }
   ],
   "source": [
    "cluster = LocalCluster(n_workers=4, threads_per_worker=1)\n",
    "client = Client(cluster)\n",
    " \n",
    "client.run(pyrosetta.distributed.dask.init_notebook, my_flags)\n",
    "\n",
    "futures = [client.submit(run_fast_design, pose_start) for i in range(100)]\n",
    "logging.info(\"Now performing refinement on each point mutant!\")\n",
    "results = [future.result() for future in futures]\n",
    "\n",
    "client.close()\n",
    "cluster.close()"
   ]
  }
 ],
 "metadata": {
  "kernelspec": {
   "display_name": "Python 3",
   "language": "python",
   "name": "python3"
  },
  "language_info": {
   "codemirror_mode": {
    "name": "ipython",
    "version": 3
   },
   "file_extension": ".py",
   "mimetype": "text/x-python",
   "name": "python",
   "nbconvert_exporter": "python",
   "pygments_lexer": "ipython3",
   "version": "3.6.7"
  }
 },
 "nbformat": 4,
 "nbformat_minor": 2
}
