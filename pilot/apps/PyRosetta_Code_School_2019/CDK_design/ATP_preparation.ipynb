{
 "cells": [
  {
   "cell_type": "code",
   "execution_count": 1,
   "metadata": {},
   "outputs": [
    {
     "data": {
      "text/html": [
       "<style>.container { width:100% !important; }</style>"
      ],
      "text/plain": [
       "<IPython.core.display.HTML object>"
      ]
     },
     "metadata": {},
     "output_type": "display_data"
    }
   ],
   "source": [
    "import logging\n",
    "logging.basicConfig(level=logging.INFO)\n",
    "import os\n",
    "import py3Dmol\n",
    "import sys\n",
    "\n",
    "from IPython.core.display import display, HTML\n",
    "display(HTML(\"<style>.container { width:100% !important; }</style>\"))\n",
    "from IPython.display import IFrame"
   ]
  },
  {
   "cell_type": "code",
   "execution_count": 2,
   "metadata": {},
   "outputs": [],
   "source": [
    "!grep \"^HETATM\" ATP.pdb > ATP_clean.pdb"
   ]
  },
  {
   "cell_type": "code",
   "execution_count": 3,
   "metadata": {},
   "outputs": [
    {
     "name": "stdout",
     "output_type": "stream",
     "text": [
      "1 molecule converted\r\n",
      "45 audit log messages \r\n"
     ]
    }
   ],
   "source": [
    "babel =  os.path.join(os.path.dirname(sys.executable), \"babel\")\n",
    "!{babel} -ipdb ATP_clean.pdb -omol2 ATP_clean.mol2 -h -p 7.0"
   ]
  },
  {
   "cell_type": "code",
   "execution_count": 4,
   "metadata": {},
   "outputs": [
    {
     "data": {
      "application/3dmoljs_load.v0": "<div id=\"3dmolviewer_1547692243503881\"  style=\"position: relative; width: 600px; height: 300px\">\n        <p id=\"3dmolwarning_1547692243503881\" style=\"background-color:#ffcccc;color:black\">You appear to be running in JupyterLab (or JavaScript failed to load for some other reason).  You need to install the 3dmol extension: <br>\n        <tt>jupyter labextension install jupyterlab_3dmol</tt></p>\n        </div>\n<script>\n\nvar loadScriptAsync = function(uri){\n  return new Promise((resolve, reject) => {\n    var tag = document.createElement('script');\n    tag.src = uri;\n    tag.async = true;\n    tag.onload = () => {\n      resolve();\n    };\n  var firstScriptTag = document.getElementsByTagName('script')[0];\n  firstScriptTag.parentNode.insertBefore(tag, firstScriptTag);\n});\n};\n\nif(typeof $3Dmolpromise === 'undefined') {\n$3Dmolpromise = null;\n  $3Dmolpromise = loadScriptAsync('https://3dmol.csb.pitt.edu/build/3Dmol.js');\n}\n\nvar viewer_1547692243503881 = null;\nvar warn = document.getElementById(\"3dmolwarning_1547692243503881\");\nif(warn) {\n    warn.parentNode.removeChild(warn);\n}\n$3Dmolpromise.then(function() {\nviewer_1547692243503881 = $3Dmol.createViewer($(\"#3dmolviewer_1547692243503881\"),{backgroundColor:\"white\"});\n\tviewer_1547692243503881.addModel(\"@<TRIPOS>MOLECULE\\nATP_clean.pdb\\n 43 45 0 0 0\\nSMALL\\nGASTEIGER\\n\\n@<TRIPOS>ATOM\\n      1  PA        48.3780  -20.5450  -12.8170 P.3   332  ATP332      0.2182\\n      2  PB        47.3350  -23.1960  -12.3400 P.3   332  ATP332      0.2206\\n      3  PG        46.1280  -23.1010   -9.8140 P.3   332  ATP332     -0.0068\\n      4  C5'       50.7110  -21.7690  -13.2310 C.3   332  ATP332      0.0836\\n      5  O5'       49.9180  -20.5840  -13.3100 O.3   332  ATP332     -0.3246\\n      6  C4'       52.2030  -21.4340  -13.2710 C.3   332  ATP332      0.1133\\n      7  O4'       52.4080  -20.1490  -13.8710 O.3   332  ATP332     -0.3456\\n      8  C3'       52.8400  -21.4040  -11.8810 C.3   332  ATP332      0.1135\\n      9  O3'       53.8420  -22.4310  -11.7630 O.3   332  ATP332     -0.3864\\n     10  C2'       53.4460  -20.0150  -11.7450 C.3   332  ATP332      0.1285\\n     11  O2'       54.7770  -20.0620  -11.2100 O.3   332  ATP332     -0.3847\\n     12  C1'       53.4140  -19.4270  -13.1550 C.3   332  ATP332      0.1667\\n     13  N1        55.0940  -14.4360  -12.9330 N.ar  332  ATP332     -0.2188\\n     14  O1A       47.6680  -19.4750  -13.6090 O.co2 332  ATP332     -0.5170\\n     15  O1B       48.4560  -24.2280  -12.2560 O.co2 332  ATP332     -0.4370\\n     16  O1G       46.3360  -24.5920   -9.9390 O.co2 332  ATP332     -0.5767\\n     17  C2        55.8010  -15.5790  -12.9700 C.ar  332  ATP332      0.1205\\n     18  O2A       48.3590  -20.4410  -11.3100 O.co2 332  ATP332     -0.4371\\n     19  O2B       45.9500  -23.6070  -12.7850 O.2   332  ATP332     -0.5169\\n     20  O2G       46.5980  -22.5370   -8.4940 O.co2 332  ATP332     -0.5767\\n     21  N3        55.2420  -16.8020  -13.0290 N.ar  332  ATP332     -0.2159\\n     22  O3A       47.7280  -21.9490  -13.2950 O.3   332  ATP332     -0.2702\\n     23  O3B       47.1440  -22.4930  -10.9030 O.3   332  ATP332     -0.3141\\n     24  O3G       44.7810  -22.5930  -10.2760 O.2   332  ATP332     -0.6374\\n     25  C4        53.8960  -16.9510  -13.0520 C.ar  332  ATP332      0.1674\\n     26  C5        53.0590  -15.7420  -13.0110 C.ar  332  ATP332      0.1473\\n     27  C6        53.7430  -14.4330  -12.9470 C.ar  332  ATP332      0.1472\\n     28  N6        53.0270  -13.2810  -12.9050 N.pl3 332  ATP332     -0.3413\\n     29  N7        51.7830  -16.1540  -13.0450 N.ar  332  ATP332     -0.2306\\n     30  C8        51.7990  -17.5090  -13.1000 C.ar  332  ATP332      0.1004\\n     31  N9        53.0540  -17.9880  -13.1040 N.ar  332  ATP332     -0.2855\\n     32 H          50.4729  -22.4051  -14.0578 H     332  ATP332      0.0591\\n     33 H          50.4969  -22.2613  -12.3054 H     332  ATP332      0.0591\\n     34 H          52.6654  -22.2095  -13.8452 H     332  ATP332      0.0647\\n     35 H          52.1274  -21.5932  -11.1055 H     332  ATP332      0.0647\\n     36 H          54.5169  -22.3045  -12.4482 H     332  ATP332      0.2100\\n     37 H          52.8972  -19.4093  -11.0545 H     332  ATP332      0.0665\\n     38 H          55.3394  -20.5999  -11.7890 H     332  ATP332      0.2101\\n     39 H          54.3706  -19.5097  -13.6272 H     332  ATP332      0.0866\\n     40 H          56.8309  -15.5150  -12.9521 H     332  ATP332      0.1048\\n     41 H          52.0431  -13.3123  -12.9166 H     332  ATP332      0.1438\\n     42 H          53.4915  -12.4140  -12.8629 H     332  ATP332      0.1438\\n     43 H          50.9526  -18.0985  -13.1345 H     332  ATP332      0.1030\\n@<TRIPOS>BOND\\n     1     7     6    1\\n     2     7    12    1\\n     3    14     1    2\\n     4     5     4    1\\n     5     5     1    1\\n     6    22     1    1\\n     7    22     2    1\\n     8     6     4    1\\n     9     6     8    1\\n    10    12    31    1\\n    11    12    10    1\\n    12    31    30   ar\\n    13    31    25   ar\\n    14    30    29   ar\\n    15    25    21   ar\\n    16    25    26   ar\\n    17    29    26   ar\\n    18    21    17   ar\\n    19    26    27   ar\\n    20    17    13   ar\\n    21    27    13   ar\\n    22    27    28    1\\n    23     1    18    1\\n    24    19     2    2\\n    25     2    15    1\\n    26     2    23    1\\n    27     8     9    1\\n    28     8    10    1\\n    29    10    11    1\\n    30    23     3    1\\n    31    24     3    2\\n    32    16     3    1\\n    33     3    20    1\\n    34     4    32    1\\n    35     4    33    1\\n    36     6    34    1\\n    37     8    35    1\\n    38     9    36    1\\n    39    10    37    1\\n    40    11    38    1\\n    41    12    39    1\\n    42    17    40    1\\n    43    28    41    1\\n    44    28    42    1\\n    45    30    43    1\\n\",\"mol2\");\n\tviewer_1547692243503881.setStyle({\"stick\": {}});\n\tviewer_1547692243503881.zoomTo();\nviewer_1547692243503881.render();\n});\n</script>",
      "text/html": [
       "<div id=\"3dmolviewer_1547692243503881\"  style=\"position: relative; width: 600px; height: 300px\">\n",
       "        <p id=\"3dmolwarning_1547692243503881\" style=\"background-color:#ffcccc;color:black\">You appear to be running in JupyterLab (or JavaScript failed to load for some other reason).  You need to install the 3dmol extension: <br>\n",
       "        <tt>jupyter labextension install jupyterlab_3dmol</tt></p>\n",
       "        </div>\n",
       "<script>\n",
       "\n",
       "var loadScriptAsync = function(uri){\n",
       "  return new Promise((resolve, reject) => {\n",
       "    var tag = document.createElement('script');\n",
       "    tag.src = uri;\n",
       "    tag.async = true;\n",
       "    tag.onload = () => {\n",
       "      resolve();\n",
       "    };\n",
       "  var firstScriptTag = document.getElementsByTagName('script')[0];\n",
       "  firstScriptTag.parentNode.insertBefore(tag, firstScriptTag);\n",
       "});\n",
       "};\n",
       "\n",
       "if(typeof $3Dmolpromise === 'undefined') {\n",
       "$3Dmolpromise = null;\n",
       "  $3Dmolpromise = loadScriptAsync('https://3dmol.csb.pitt.edu/build/3Dmol.js');\n",
       "}\n",
       "\n",
       "var viewer_1547692243503881 = null;\n",
       "var warn = document.getElementById(\"3dmolwarning_1547692243503881\");\n",
       "if(warn) {\n",
       "    warn.parentNode.removeChild(warn);\n",
       "}\n",
       "$3Dmolpromise.then(function() {\n",
       "viewer_1547692243503881 = $3Dmol.createViewer($(\"#3dmolviewer_1547692243503881\"),{backgroundColor:\"white\"});\n",
       "\tviewer_1547692243503881.addModel(\"@<TRIPOS>MOLECULE\\nATP_clean.pdb\\n 43 45 0 0 0\\nSMALL\\nGASTEIGER\\n\\n@<TRIPOS>ATOM\\n      1  PA        48.3780  -20.5450  -12.8170 P.3   332  ATP332      0.2182\\n      2  PB        47.3350  -23.1960  -12.3400 P.3   332  ATP332      0.2206\\n      3  PG        46.1280  -23.1010   -9.8140 P.3   332  ATP332     -0.0068\\n      4  C5'       50.7110  -21.7690  -13.2310 C.3   332  ATP332      0.0836\\n      5  O5'       49.9180  -20.5840  -13.3100 O.3   332  ATP332     -0.3246\\n      6  C4'       52.2030  -21.4340  -13.2710 C.3   332  ATP332      0.1133\\n      7  O4'       52.4080  -20.1490  -13.8710 O.3   332  ATP332     -0.3456\\n      8  C3'       52.8400  -21.4040  -11.8810 C.3   332  ATP332      0.1135\\n      9  O3'       53.8420  -22.4310  -11.7630 O.3   332  ATP332     -0.3864\\n     10  C2'       53.4460  -20.0150  -11.7450 C.3   332  ATP332      0.1285\\n     11  O2'       54.7770  -20.0620  -11.2100 O.3   332  ATP332     -0.3847\\n     12  C1'       53.4140  -19.4270  -13.1550 C.3   332  ATP332      0.1667\\n     13  N1        55.0940  -14.4360  -12.9330 N.ar  332  ATP332     -0.2188\\n     14  O1A       47.6680  -19.4750  -13.6090 O.co2 332  ATP332     -0.5170\\n     15  O1B       48.4560  -24.2280  -12.2560 O.co2 332  ATP332     -0.4370\\n     16  O1G       46.3360  -24.5920   -9.9390 O.co2 332  ATP332     -0.5767\\n     17  C2        55.8010  -15.5790  -12.9700 C.ar  332  ATP332      0.1205\\n     18  O2A       48.3590  -20.4410  -11.3100 O.co2 332  ATP332     -0.4371\\n     19  O2B       45.9500  -23.6070  -12.7850 O.2   332  ATP332     -0.5169\\n     20  O2G       46.5980  -22.5370   -8.4940 O.co2 332  ATP332     -0.5767\\n     21  N3        55.2420  -16.8020  -13.0290 N.ar  332  ATP332     -0.2159\\n     22  O3A       47.7280  -21.9490  -13.2950 O.3   332  ATP332     -0.2702\\n     23  O3B       47.1440  -22.4930  -10.9030 O.3   332  ATP332     -0.3141\\n     24  O3G       44.7810  -22.5930  -10.2760 O.2   332  ATP332     -0.6374\\n     25  C4        53.8960  -16.9510  -13.0520 C.ar  332  ATP332      0.1674\\n     26  C5        53.0590  -15.7420  -13.0110 C.ar  332  ATP332      0.1473\\n     27  C6        53.7430  -14.4330  -12.9470 C.ar  332  ATP332      0.1472\\n     28  N6        53.0270  -13.2810  -12.9050 N.pl3 332  ATP332     -0.3413\\n     29  N7        51.7830  -16.1540  -13.0450 N.ar  332  ATP332     -0.2306\\n     30  C8        51.7990  -17.5090  -13.1000 C.ar  332  ATP332      0.1004\\n     31  N9        53.0540  -17.9880  -13.1040 N.ar  332  ATP332     -0.2855\\n     32 H          50.4729  -22.4051  -14.0578 H     332  ATP332      0.0591\\n     33 H          50.4969  -22.2613  -12.3054 H     332  ATP332      0.0591\\n     34 H          52.6654  -22.2095  -13.8452 H     332  ATP332      0.0647\\n     35 H          52.1274  -21.5932  -11.1055 H     332  ATP332      0.0647\\n     36 H          54.5169  -22.3045  -12.4482 H     332  ATP332      0.2100\\n     37 H          52.8972  -19.4093  -11.0545 H     332  ATP332      0.0665\\n     38 H          55.3394  -20.5999  -11.7890 H     332  ATP332      0.2101\\n     39 H          54.3706  -19.5097  -13.6272 H     332  ATP332      0.0866\\n     40 H          56.8309  -15.5150  -12.9521 H     332  ATP332      0.1048\\n     41 H          52.0431  -13.3123  -12.9166 H     332  ATP332      0.1438\\n     42 H          53.4915  -12.4140  -12.8629 H     332  ATP332      0.1438\\n     43 H          50.9526  -18.0985  -13.1345 H     332  ATP332      0.1030\\n@<TRIPOS>BOND\\n     1     7     6    1\\n     2     7    12    1\\n     3    14     1    2\\n     4     5     4    1\\n     5     5     1    1\\n     6    22     1    1\\n     7    22     2    1\\n     8     6     4    1\\n     9     6     8    1\\n    10    12    31    1\\n    11    12    10    1\\n    12    31    30   ar\\n    13    31    25   ar\\n    14    30    29   ar\\n    15    25    21   ar\\n    16    25    26   ar\\n    17    29    26   ar\\n    18    21    17   ar\\n    19    26    27   ar\\n    20    17    13   ar\\n    21    27    13   ar\\n    22    27    28    1\\n    23     1    18    1\\n    24    19     2    2\\n    25     2    15    1\\n    26     2    23    1\\n    27     8     9    1\\n    28     8    10    1\\n    29    10    11    1\\n    30    23     3    1\\n    31    24     3    2\\n    32    16     3    1\\n    33     3    20    1\\n    34     4    32    1\\n    35     4    33    1\\n    36     6    34    1\\n    37     8    35    1\\n    38     9    36    1\\n    39    10    37    1\\n    40    11    38    1\\n    41    12    39    1\\n    42    17    40    1\\n    43    28    41    1\\n    44    28    42    1\\n    45    30    43    1\\n\",\"mol2\");\n",
       "\tviewer_1547692243503881.setStyle({\"stick\": {}});\n",
       "\tviewer_1547692243503881.zoomTo();\n",
       "viewer_1547692243503881.render();\n",
       "});\n",
       "</script>"
      ]
     },
     "metadata": {},
     "output_type": "display_data"
    }
   ],
   "source": [
    "mol = open(os.path.join(os.getcwd(), \"ATP_clean.mol2\")).read()\n",
    "viewer = py3Dmol.view(600, 300)\n",
    "viewer.addModel(mol, \"mol2\")\n",
    "viewer.setStyle({\"stick\": {}})\n",
    "viewer.zoomTo()\n",
    "viewer.show()"
   ]
  },
  {
   "cell_type": "code",
   "execution_count": 5,
   "metadata": {},
   "outputs": [
    {
     "name": "stdout",
     "output_type": "stream",
     "text": [
      "\n",
      "Welcome to antechamber 17.3: molecular input file processor.\n",
      "\n",
      "acdoctor mode is on: check and diagnosis problems in the input file.\n",
      "-- Check Format for mol2 File --\n",
      "   Status: pass\n",
      "-- Check Unusual Elements --\n",
      "   Status: pass\n",
      "-- Check Open Valences --\n",
      "Warning: The number of bonds (3) for atom (ID: 31, Name: N9) does not match\n",
      "         the connectivity (2) for atom type (N.ar) defined in CORR_NAME_TYPE.DAT.\n",
      "But, you may safely ignore the warnings if your molecule\n",
      "         uses atom names or element names as atom types.\n",
      "-- Check Geometry --\n",
      "      for those bonded   \n",
      "      for those not bonded   \n",
      "   Status: pass\n",
      "-- Check Weird Bonds --\n",
      "   Status: pass\n",
      "-- Check Number of Units --\n",
      "   Status: pass\n",
      "acdoctor mode has completed checking the input file.\n",
      "\n",
      "Info: Total number of electrons: 260; net charge: -4\n",
      "\n",
      "Running: /Users/grigoriiandrianov/miniconda3/envs/pyrosetta-code-school/bin/sqm -O -i sqm.in -o sqm.out\n",
      "\n",
      "CPU times: user 2.24 s, sys: 619 ms, total: 2.86 s\n",
      "Wall time: 2min 1s\n"
     ]
    }
   ],
   "source": [
    "antechamber =  os.path.join(os.path.dirname(sys.executable), \"antechamber\")\n",
    "%time !{antechamber} -i ATP_clean.mol2 -fi mol2 -o ATP_clean.am1-bcc.mol2 -fo mol2 -c bcc -at sybyl -nc -4"
   ]
  },
  {
   "cell_type": "code",
   "execution_count": 6,
   "metadata": {},
   "outputs": [
    {
     "name": "stdout",
     "output_type": "stream",
     "text": [
      "total 280\r\n",
      "-rw-r--r--@ 1 grigoriiandrianov  staff   2.5K Jan 16 21:02 295.pdb\r\n",
      "-rw-r--r--@ 1 grigoriiandrianov  staff   5.6K Jan 16 21:03 ATP.pdb\r\n",
      "-rw-r--r--  1 grigoriiandrianov  staff     6B Jan 16 21:16 temp.txt\r\n",
      "-rw-r--r--  1 grigoriiandrianov  staff   2.5K Jan 16 21:29 ATP_clean.pdb\r\n",
      "-rw-r--r--  1 grigoriiandrianov  staff   4.4K Jan 16 21:29 ATP_clean.mol2\r\n",
      "-rw-r--r--  1 grigoriiandrianov  staff   4.8K Jan 16 21:32 ANTECHAMBER_BOND_TYPE.AC0\r\n",
      "-rw-r--r--  1 grigoriiandrianov  staff   4.8K Jan 16 21:32 ANTECHAMBER_BOND_TYPE.AC\r\n",
      "-rw-r--r--  1 grigoriiandrianov  staff   4.8K Jan 16 21:32 ANTECHAMBER_AC.AC0\r\n",
      "-rw-r--r--  1 grigoriiandrianov  staff   4.8K Jan 16 21:32 ANTECHAMBER_AC.AC\r\n",
      "-rw-r--r--  1 grigoriiandrianov  staff   2.4K Jan 16 21:32 sqm.in\r\n",
      "-rw-r--r--  1 grigoriiandrianov  staff    16K Jan 16 21:34 ATP_preparation.ipynb\r\n",
      "-rw-r--r--  1 grigoriiandrianov  staff    12K Jan 16 21:34 sqm.out\r\n",
      "-rw-r--r--  1 grigoriiandrianov  staff   3.3K Jan 16 21:34 sqm.pdb\r\n",
      "-rw-r--r--  1 grigoriiandrianov  staff   4.8K Jan 16 21:34 ANTECHAMBER_AM1BCC_PRE.AC\r\n",
      "-rw-r--r--  1 grigoriiandrianov  staff   9.7K Jan 16 21:34 ATOMTYPE.INF\r\n",
      "-rw-r--r--  1 grigoriiandrianov  staff   4.8K Jan 16 21:34 ANTECHAMBER_AM1BCC.AC\r\n",
      "-rw-r--r--  1 grigoriiandrianov  staff   4.7K Jan 16 21:34 ATP_clean.am1-bcc.mol2\r\n"
     ]
    }
   ],
   "source": [
    "!ls -ltrh"
   ]
  },
  {
   "cell_type": "code",
   "execution_count": 7,
   "metadata": {},
   "outputs": [
    {
     "data": {
      "application/3dmoljs_load.v0": "<div id=\"3dmolviewer_154769257311553\"  style=\"position: relative; width: 600px; height: 300px\">\n        <p id=\"3dmolwarning_154769257311553\" style=\"background-color:#ffcccc;color:black\">You appear to be running in JupyterLab (or JavaScript failed to load for some other reason).  You need to install the 3dmol extension: <br>\n        <tt>jupyter labextension install jupyterlab_3dmol</tt></p>\n        </div>\n<script>\n\nvar loadScriptAsync = function(uri){\n  return new Promise((resolve, reject) => {\n    var tag = document.createElement('script');\n    tag.src = uri;\n    tag.async = true;\n    tag.onload = () => {\n      resolve();\n    };\n  var firstScriptTag = document.getElementsByTagName('script')[0];\n  firstScriptTag.parentNode.insertBefore(tag, firstScriptTag);\n});\n};\n\nif(typeof $3Dmolpromise === 'undefined') {\n$3Dmolpromise = null;\n  $3Dmolpromise = loadScriptAsync('https://3dmol.csb.pitt.edu/build/3Dmol.js');\n}\n\nvar viewer_154769257311553 = null;\nvar warn = document.getElementById(\"3dmolwarning_154769257311553\");\nif(warn) {\n    warn.parentNode.removeChild(warn);\n}\n$3Dmolpromise.then(function() {\nviewer_154769257311553 = $3Dmol.createViewer($(\"#3dmolviewer_154769257311553\"),{backgroundColor:\"white\"});\n\tviewer_154769257311553.addModel(\"@<TRIPOS>MOLECULE\\nATP_clean.pdb\\n   43    45     1     0     0\\nSMALL\\nbcc\\n\\n\\n@<TRIPOS>ATOM\\n      1 PA          48.3780   -20.5450   -12.8170 P.3      332 ATP       1.492800\\n      2 PB          47.3350   -23.1960   -12.3400 P.3      332 ATP       1.641800\\n      3 PG          46.1280   -23.1010    -9.8140 P.3      332 ATP       1.395900\\n      4 C5'         50.7110   -21.7690   -13.2310 C.3      332 ATP       0.151400\\n      5 O5'         49.9180   -20.5840   -13.3100 O.3      332 ATP      -0.595200\\n      6 C4'         52.2030   -21.4340   -13.2710 C.3      332 ATP       0.092100\\n      7 O4'         52.4080   -20.1490   -13.8710 O.3      332 ATP      -0.431600\\n      8 C3'         52.8400   -21.4040   -11.8810 C.3      332 ATP       0.106100\\n      9 O3'         53.8420   -22.4310   -11.7630 O.3      332 ATP      -0.677800\\n     10 C2'         53.4460   -20.0150   -11.7450 C.3      332 ATP       0.113100\\n     11 O2'         54.7770   -20.0620   -11.2100 O.3      332 ATP      -0.626800\\n     12 C1'         53.4140   -19.4270   -13.1550 C.3      332 ATP       0.237800\\n     13 N1          55.0940   -14.4360   -12.9330 N.ar     332 ATP      -0.778000\\n     14 O1A         47.6680   -19.4750   -13.6090 O.co2    332 ATP      -0.687000\\n     15 O1B         48.4560   -24.2280   -12.2560 O.co2    332 ATP      -0.911000\\n     16 O1G         46.3360   -24.5920    -9.9390 O.co2    332 ATP      -0.910833\\n     17 C2          55.8010   -15.5790   -12.9700 C.ar     332 ATP       0.551900\\n     18 O2A         48.3590   -20.4410   -11.3100 O.co2    332 ATP      -0.687000\\n     19 O2B         45.9500   -23.6070   -12.7850 O.co2    332 ATP      -0.911000\\n     20 O2G         46.5980   -22.5370    -8.4940 O.co2    332 ATP      -0.910833\\n     21 N3          55.2420   -16.8020   -13.0290 N.ar     332 ATP      -0.703000\\n     22 O3A         47.7280   -21.9490   -13.2950 O.3      332 ATP      -0.726800\\n     23 O3B         47.1440   -22.4930   -10.9030 O.3      332 ATP      -0.719800\\n     24 O3G         44.7810   -22.5930   -10.2760 O.co2    332 ATP      -0.910833\\n     25 C4          53.8960   -16.9510   -13.0520 C.ar     332 ATP       0.387800\\n     26 C5          53.0590   -15.7420   -13.0110 C.ar     332 ATP      -0.110200\\n     27 C6          53.7430   -14.4330   -12.9470 C.ar     332 ATP       0.519200\\n     28 N6          53.0270   -13.2810   -12.9050 N.3      332 ATP      -0.887500\\n     29 N7          51.7830   -16.1540   -13.0450 N.2      332 ATP      -0.780100\\n     30 C8          51.7990   -17.5090   -13.1000 C.2      332 ATP       0.352700\\n     31 N9          53.0540   -17.9880   -13.1040 N.pl3    332 ATP      -0.268000\\n     32 H           50.4730   -22.4050   -14.0580 H        332 ATP       0.082700\\n     33 H1          50.4970   -22.2610   -12.3050 H        332 ATP       0.082700\\n     34 H2          52.6650   -22.2090   -13.8450 H        332 ATP       0.052700\\n     35 H3          52.1270   -21.5930   -11.1050 H        332 ATP       0.087700\\n     36 H4          54.5170   -22.3050   -12.4480 H        332 ATP       0.510000\\n     37 H5          52.8970   -19.4090   -11.0550 H        332 ATP       0.102700\\n     38 H6          55.3390   -20.6000   -11.7890 H        332 ATP       0.416000\\n     39 H7          54.3710   -19.5100   -13.6270 H        332 ATP       0.038700\\n     40 H8          56.8310   -15.5150   -12.9520 H        332 ATP      -0.003900\\n     41 H9          52.0430   -13.3120   -12.9170 H        332 ATP       0.345800\\n     42 H10         53.4920   -12.4140   -12.8630 H        332 ATP       0.345800\\n     43 H11         50.9530   -18.0990   -13.1340 H        332 ATP       0.132800\\n@<TRIPOS>BOND\\n     1     7     6 1   \\n     2     7    12 1   \\n     3    14     1 1   \\n     4     5     4 1   \\n     5     5     1 1   \\n     6    22     1 1   \\n     7    22     2 1   \\n     8     6     4 1   \\n     9     6     8 1   \\n    10    12    31 1   \\n    11    12    10 1   \\n    12    31    30 1   \\n    13    31    25 1   \\n    14    30    29 2   \\n    15    25    21 ar  \\n    16    25    26 ar  \\n    17    29    26 1   \\n    18    21    17 ar  \\n    19    26    27 ar  \\n    20    17    13 ar  \\n    21    27    13 ar  \\n    22    27    28 1   \\n    23     1    18 1   \\n    24    19     2 1   \\n    25     2    15 1   \\n    26     2    23 1   \\n    27     8     9 1   \\n    28     8    10 1   \\n    29    10    11 1   \\n    30    23     3 1   \\n    31    24     3 1   \\n    32    16     3 1   \\n    33     3    20 1   \\n    34     4    32 1   \\n    35     4    33 1   \\n    36     6    34 1   \\n    37     8    35 1   \\n    38     9    36 1   \\n    39    10    37 1   \\n    40    11    38 1   \\n    41    12    39 1   \\n    42    17    40 1   \\n    43    28    41 1   \\n    44    28    42 1   \\n    45    30    43 1   \\n@<TRIPOS>SUBSTRUCTURE\\n     1 ATP         1 TEMP              0 ****  ****    0 ROOT\\n\",\"mol2\");\n\tviewer_154769257311553.setStyle({\"stick\": {}});\n\tviewer_154769257311553.zoomTo();\nviewer_154769257311553.render();\n});\n</script>",
      "text/html": [
       "<div id=\"3dmolviewer_154769257311553\"  style=\"position: relative; width: 600px; height: 300px\">\n",
       "        <p id=\"3dmolwarning_154769257311553\" style=\"background-color:#ffcccc;color:black\">You appear to be running in JupyterLab (or JavaScript failed to load for some other reason).  You need to install the 3dmol extension: <br>\n",
       "        <tt>jupyter labextension install jupyterlab_3dmol</tt></p>\n",
       "        </div>\n",
       "<script>\n",
       "\n",
       "var loadScriptAsync = function(uri){\n",
       "  return new Promise((resolve, reject) => {\n",
       "    var tag = document.createElement('script');\n",
       "    tag.src = uri;\n",
       "    tag.async = true;\n",
       "    tag.onload = () => {\n",
       "      resolve();\n",
       "    };\n",
       "  var firstScriptTag = document.getElementsByTagName('script')[0];\n",
       "  firstScriptTag.parentNode.insertBefore(tag, firstScriptTag);\n",
       "});\n",
       "};\n",
       "\n",
       "if(typeof $3Dmolpromise === 'undefined') {\n",
       "$3Dmolpromise = null;\n",
       "  $3Dmolpromise = loadScriptAsync('https://3dmol.csb.pitt.edu/build/3Dmol.js');\n",
       "}\n",
       "\n",
       "var viewer_154769257311553 = null;\n",
       "var warn = document.getElementById(\"3dmolwarning_154769257311553\");\n",
       "if(warn) {\n",
       "    warn.parentNode.removeChild(warn);\n",
       "}\n",
       "$3Dmolpromise.then(function() {\n",
       "viewer_154769257311553 = $3Dmol.createViewer($(\"#3dmolviewer_154769257311553\"),{backgroundColor:\"white\"});\n",
       "\tviewer_154769257311553.addModel(\"@<TRIPOS>MOLECULE\\nATP_clean.pdb\\n   43    45     1     0     0\\nSMALL\\nbcc\\n\\n\\n@<TRIPOS>ATOM\\n      1 PA          48.3780   -20.5450   -12.8170 P.3      332 ATP       1.492800\\n      2 PB          47.3350   -23.1960   -12.3400 P.3      332 ATP       1.641800\\n      3 PG          46.1280   -23.1010    -9.8140 P.3      332 ATP       1.395900\\n      4 C5'         50.7110   -21.7690   -13.2310 C.3      332 ATP       0.151400\\n      5 O5'         49.9180   -20.5840   -13.3100 O.3      332 ATP      -0.595200\\n      6 C4'         52.2030   -21.4340   -13.2710 C.3      332 ATP       0.092100\\n      7 O4'         52.4080   -20.1490   -13.8710 O.3      332 ATP      -0.431600\\n      8 C3'         52.8400   -21.4040   -11.8810 C.3      332 ATP       0.106100\\n      9 O3'         53.8420   -22.4310   -11.7630 O.3      332 ATP      -0.677800\\n     10 C2'         53.4460   -20.0150   -11.7450 C.3      332 ATP       0.113100\\n     11 O2'         54.7770   -20.0620   -11.2100 O.3      332 ATP      -0.626800\\n     12 C1'         53.4140   -19.4270   -13.1550 C.3      332 ATP       0.237800\\n     13 N1          55.0940   -14.4360   -12.9330 N.ar     332 ATP      -0.778000\\n     14 O1A         47.6680   -19.4750   -13.6090 O.co2    332 ATP      -0.687000\\n     15 O1B         48.4560   -24.2280   -12.2560 O.co2    332 ATP      -0.911000\\n     16 O1G         46.3360   -24.5920    -9.9390 O.co2    332 ATP      -0.910833\\n     17 C2          55.8010   -15.5790   -12.9700 C.ar     332 ATP       0.551900\\n     18 O2A         48.3590   -20.4410   -11.3100 O.co2    332 ATP      -0.687000\\n     19 O2B         45.9500   -23.6070   -12.7850 O.co2    332 ATP      -0.911000\\n     20 O2G         46.5980   -22.5370    -8.4940 O.co2    332 ATP      -0.910833\\n     21 N3          55.2420   -16.8020   -13.0290 N.ar     332 ATP      -0.703000\\n     22 O3A         47.7280   -21.9490   -13.2950 O.3      332 ATP      -0.726800\\n     23 O3B         47.1440   -22.4930   -10.9030 O.3      332 ATP      -0.719800\\n     24 O3G         44.7810   -22.5930   -10.2760 O.co2    332 ATP      -0.910833\\n     25 C4          53.8960   -16.9510   -13.0520 C.ar     332 ATP       0.387800\\n     26 C5          53.0590   -15.7420   -13.0110 C.ar     332 ATP      -0.110200\\n     27 C6          53.7430   -14.4330   -12.9470 C.ar     332 ATP       0.519200\\n     28 N6          53.0270   -13.2810   -12.9050 N.3      332 ATP      -0.887500\\n     29 N7          51.7830   -16.1540   -13.0450 N.2      332 ATP      -0.780100\\n     30 C8          51.7990   -17.5090   -13.1000 C.2      332 ATP       0.352700\\n     31 N9          53.0540   -17.9880   -13.1040 N.pl3    332 ATP      -0.268000\\n     32 H           50.4730   -22.4050   -14.0580 H        332 ATP       0.082700\\n     33 H1          50.4970   -22.2610   -12.3050 H        332 ATP       0.082700\\n     34 H2          52.6650   -22.2090   -13.8450 H        332 ATP       0.052700\\n     35 H3          52.1270   -21.5930   -11.1050 H        332 ATP       0.087700\\n     36 H4          54.5170   -22.3050   -12.4480 H        332 ATP       0.510000\\n     37 H5          52.8970   -19.4090   -11.0550 H        332 ATP       0.102700\\n     38 H6          55.3390   -20.6000   -11.7890 H        332 ATP       0.416000\\n     39 H7          54.3710   -19.5100   -13.6270 H        332 ATP       0.038700\\n     40 H8          56.8310   -15.5150   -12.9520 H        332 ATP      -0.003900\\n     41 H9          52.0430   -13.3120   -12.9170 H        332 ATP       0.345800\\n     42 H10         53.4920   -12.4140   -12.8630 H        332 ATP       0.345800\\n     43 H11         50.9530   -18.0990   -13.1340 H        332 ATP       0.132800\\n@<TRIPOS>BOND\\n     1     7     6 1   \\n     2     7    12 1   \\n     3    14     1 1   \\n     4     5     4 1   \\n     5     5     1 1   \\n     6    22     1 1   \\n     7    22     2 1   \\n     8     6     4 1   \\n     9     6     8 1   \\n    10    12    31 1   \\n    11    12    10 1   \\n    12    31    30 1   \\n    13    31    25 1   \\n    14    30    29 2   \\n    15    25    21 ar  \\n    16    25    26 ar  \\n    17    29    26 1   \\n    18    21    17 ar  \\n    19    26    27 ar  \\n    20    17    13 ar  \\n    21    27    13 ar  \\n    22    27    28 1   \\n    23     1    18 1   \\n    24    19     2 1   \\n    25     2    15 1   \\n    26     2    23 1   \\n    27     8     9 1   \\n    28     8    10 1   \\n    29    10    11 1   \\n    30    23     3 1   \\n    31    24     3 1   \\n    32    16     3 1   \\n    33     3    20 1   \\n    34     4    32 1   \\n    35     4    33 1   \\n    36     6    34 1   \\n    37     8    35 1   \\n    38     9    36 1   \\n    39    10    37 1   \\n    40    11    38 1   \\n    41    12    39 1   \\n    42    17    40 1   \\n    43    28    41 1   \\n    44    28    42 1   \\n    45    30    43 1   \\n@<TRIPOS>SUBSTRUCTURE\\n     1 ATP         1 TEMP              0 ****  ****    0 ROOT\\n\",\"mol2\");\n",
       "\tviewer_154769257311553.setStyle({\"stick\": {}});\n",
       "\tviewer_154769257311553.zoomTo();\n",
       "viewer_154769257311553.render();\n",
       "});\n",
       "</script>"
      ]
     },
     "metadata": {},
     "output_type": "display_data"
    }
   ],
   "source": [
    "mol = open(os.path.join(os.getcwd(), \"ATP_clean.am1-bcc.mol2\")).read()\n",
    "viewer = py3Dmol.view(600, 300)\n",
    "viewer.addModel(mol, \"mol2\")\n",
    "viewer.setStyle({\"stick\": {}})\n",
    "viewer.zoomTo()\n",
    "viewer.show()"
   ]
  },
  {
   "cell_type": "code",
   "execution_count": 8,
   "metadata": {},
   "outputs": [
    {
     "name": "stdout",
     "output_type": "stream",
     "text": [
      "Usage: molfile_to_params.py [flags] { INPUT.mol | INPUT.sdf | INPUT.mol2 }\r\n",
      "\r\n",
      "Converts a small molecule in an MDL Molfile with \"M SPLT\" and \"M ROOT\"\r\n",
      "records into a series of .params residue definition files for Rosetta.\r\n",
      "Also writes out the ligand conformation as PDB HETATMs.\r\n",
      "\r\n",
      "If an SD file is given as input instead, the first entry is used for\r\n",
      "generating topology / parameter files, and they all are used for\r\n",
      "generating PDB-style coordinates in separate, numbered files.\r\n",
      "These multiple files can optionally be concatenated into a single file,\r\n",
      "which can then be specified with an additional PDB_ROTAMERS line in the\r\n",
      ".params file to include the extra conformations as ligand rotamers.\r\n",
      "Multiple models may also be supplied in MOL2 format, which does not support\r\n",
      "M ROOT and M SPLT records but does allow for partial charges.\r\n",
      "File type is deduced from the extension.\r\n",
      "\r\n",
      "To divide a ligand into fragments by \"breaking\" bonds (optional):\r\n",
      "M SPLT atom_no1 atom_no2\r\n",
      "\r\n",
      "To specify a neighbor atom for a ligand fragment (optional):\r\n",
      "M NBR atom_no\r\n",
      "\r\n",
      "To specify a root atom for a ligand fragment (optional):\r\n",
      "M ROOT atom_no\r\n",
      "\r\n",
      "The \"M\" records (M SPLT, M NBR, M ROOT) can alternatively be specified in\r\n",
      "a separate control file, which can be used with MOL2 format files.\r\n",
      "\r\n",
      "Note that for ligands with multiple rotamers, Rosetta overlays the ligands\r\n",
      "based on the neighbor atom (not the root atom), such that the position of the\r\n",
      "neighbor atom and the orientation of the atoms bonded to the neighbor atom is\r\n",
      "the same. When using ligand rotamers, it is recommended to confirm that the\r\n",
      "neighbor atom falls in an appropriate position.\r\n",
      "\r\n",
      "Expects that the input ligand has already had aromaticity \"perceived\",\r\n",
      "i.e. that it contains aromatic bonds rather than alternating single and double\r\n",
      "bonds (Kekule structure).\r\n",
      "\r\n",
      "Optionally writes a kinemage graphics visualization of the atom tree,\r\n",
      "neighbor atom selection, fragments, etc -- very helpful for debugging\r\n",
      "and for visualizing exactly what was done to the ligand.\r\n",
      "\r\n",
      "Options:\r\n",
      "  -h, --help            show this help message and exit\r\n",
      "  -n NM, --name=NM      name ligand residues NM1,NM2,... instead of\r\n",
      "                        LG1,LG2,...\r\n",
      "  -p FILE, --pdb=FILE   prefix for PDB file names\r\n",
      "  -c, --centroid        write files for Rosetta centroid mode too\r\n",
      "  --chain=CHAIN         The chain letter to use for the output PDB ligand.\r\n",
      "  --center=X,Y,Z        translate output PDB coords to have given heavy-atom\r\n",
      "                        centroid\r\n",
      "  -m MAX, --max-confs=MAX\r\n",
      "                        don't expand proton chis if above this many total\r\n",
      "                        confs\r\n",
      "  --root_atom=ATOM_NUM  which atom in the molfile is the root? (indexed from\r\n",
      "                        1)\r\n",
      "  --nbr_atom=ATOM_NUM   which atom in the molfile is the nbr atom? (indexed\r\n",
      "                        from 1)\r\n",
      "  -k FILE, --kinemage=FILE\r\n",
      "                        write ligand topology to FILE\r\n",
      "  -a ALA, --amino-acid=ALA\r\n",
      "                        set up params file for modified amino acid; .mol2\r\n",
      "                        only; edit chis afterward.  Implies --keep-names.\r\n",
      "  --clobber             overwrite existing files\r\n",
      "  --no-param            skip writing .params files (for debugging)\r\n",
      "  --no-pdb              skip writing .pdb files (for debugging)\r\n",
      "  --extra_torsion_output\r\n",
      "                        writing additional torsion files\r\n",
      "  --keep-names          leaves atom names untouched except for duplications\r\n",
      "  --long-names          if specified name is longer than 3 letters, keep\r\n",
      "                        entire name in param NAME field instead of truncating\r\n",
      "  --recharge=CHG        ignore existing partial charges, setting total charge\r\n",
      "                        to CHG\r\n",
      "  --m-ctrl=FILE         read additional M control lines from FILE\r\n",
      "  --mm-as-virt          assign mm atom types as VIRT, rather than X\r\n",
      "  --skip-bad-conformers\r\n",
      "                        If a conformer has atoms in the wrong order, skip it\r\n",
      "                        and continue rather than dying\r\n",
      "  --conformers-in-one-file\r\n",
      "                        Output 1st conformer to NAME.pdb and all others to\r\n",
      "                        NAME_conformers.pdb\r\n"
     ]
    }
   ],
   "source": [
    "molfile_to_params = \"~/Rosetta/main/source/scripts/python/public/molfile_to_params.py\"\n",
    "!python2.7 {molfile_to_params} -h"
   ]
  },
  {
   "cell_type": "code",
   "execution_count": 9,
   "metadata": {},
   "outputs": [
    {
     "name": "stdout",
     "output_type": "stream",
     "text": [
      "Centering ligands at (  50.804,  -19.836,  -12.302)\n",
      "Partial charges already fully assigned, no changes made; net charge -3.997\n",
      "WARNING: fragment 1 has 43 total atoms including H; protein residues have 7 - 24 (DNA: 33)\n",
      "WARNING: fragment 1 has 31 non-H atoms; protein residues have 4 - 14 (DNA: 22)\n",
      "WARNING: fragment 1 has 10 rotatable bonds; protein residues have 0 - 4\n",
      "Average 43.0 atoms (31.0 non-H atoms) per fragment\n",
      "(Proteins average 15.5 atoms (7.8 non-H atoms) per residue)\n",
      "WARNING:  no root atom specified, using NBR atom instead.\n",
      "Wrote params file ATP.am1-bcc.fa.params\n",
      "Wrote params file ATP.am1-bcc.cen.params\n"
     ]
    }
   ],
   "source": [
    "!python2.7 {molfile_to_params} -n ATP -p ATP.am1-bcc -c --conformers-in-one-file --keep-names --extra_torsion_output --clobber --chain=X ATP_clean.am1-bcc.mol2"
   ]
  },
  {
   "cell_type": "code",
   "execution_count": 10,
   "metadata": {},
   "outputs": [
    {
     "name": "stdout",
     "output_type": "stream",
     "text": [
      "ATP_clean.am1-bcc.mol2\n",
      "Warning: not assigned as polar carbon but still has some partial charge:  C2 CR 0.5519\n",
      "Warning: not assigned as polar carbon but still has some partial charge:  C4 CR 0.3878\n",
      "Warning: not assigned as polar carbon but still has some partial charge:  C6 CR 0.5192\n",
      "Warning: not assigned as polar carbon but still has some partial charge:  C8 CD1 0.3527\n"
     ]
    }
   ],
   "source": [
    "mol2genparams = \"~/Rosetta/main/source/scripts/python/public/generic_potential/mol2genparams.py\"\n",
    "%run {mol2genparams} -s ATP_clean.am1-bcc.mol2"
   ]
  },
  {
   "cell_type": "code",
   "execution_count": null,
   "metadata": {},
   "outputs": [],
   "source": []
  }
 ],
 "metadata": {
  "kernelspec": {
   "display_name": "Python 3",
   "language": "python",
   "name": "python3"
  },
  "language_info": {
   "codemirror_mode": {
    "name": "ipython",
    "version": 3
   },
   "file_extension": ".py",
   "mimetype": "text/x-python",
   "name": "python",
   "nbconvert_exporter": "python",
   "pygments_lexer": "ipython3",
   "version": "3.6.7"
  }
 },
 "nbformat": 4,
 "nbformat_minor": 2
}
